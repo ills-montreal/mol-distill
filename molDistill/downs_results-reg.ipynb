{
 "cells": [
  {
   "cell_type": "code",
   "execution_count": null,
   "metadata": {
    "collapsed": true
   },
   "outputs": [],
   "source": [
    "import os.path\n",
    "import pandas as pd\n",
    "\n",
    "import matplotlib.pyplot as plt\n",
    "import seaborn as sns\n",
    "\n",
    "MODELS_TO_EVAL = [\n",
    "    \"ChemBertMLM-10M\",\n",
    "    \"ChemBertMTR-77M\",\n",
    "    \"ChemGPT-1.2B\",\n",
    "    \"GraphMVP\",\n",
    "    \"GROVER\",\n",
    "    \"GraphLog\",\n",
    "    \"GraphCL\",\n",
    "    \"InfoGraph\",\n",
    "    \"FRAD_QM9\",\n",
    "    \"MolR_gat\",\n",
    "    \"ThreeDInfomax\",\n",
    "    \"custom:MOSES_512_10_lr1e-4_gine\"\n",
    "]\n",
    "\n",
    "DATASET_metadata = {\n",
    "    \"LD50_Zhu\": (\"LD50\", \"Tox\"),\n",
    "    \"Caco2_Wang\": (\"Caco2\", \"Absorption\"),\n",
    "    \"Lipophilicity_AstraZeneca\": (\"Lipophilicity\", \"Absorption\"),\n",
    "    \"Solubility_AqSolDB\": (\"Solubility\", \"Absorption\"),\n",
    "    \"HydrationFreeEnergy_FreeSolv\": (\"FreeSolv\", \"Absorption\"),\n",
    "    \"PPBR_AZ\": (\"PPBR\", \"Distribution\"),\n",
    "    \"VDss_Lombardo\": (\"VDss\", \"Distribution\"),\n",
    "    \"Half_Life_Obach\" : (\"Half Life\", \"Excretion\"),\n",
    "    \"Clearance_Hepatocyte_AZ\" : (\"Clearance (H)\", \"Excretion\"),\n",
    "    \"Clearance_Microsome_AZ\" : (\"Clearance (M)\", \"Excretion\"),\n",
    "}"
   ]
  },
  {
   "cell_type": "code",
   "execution_count": null,
   "outputs": [],
   "source": [
    "path = \"../downstream_results\"\n",
    "dfs = []\n",
    "for model in MODELS_TO_EVAL:\n",
    "    model_path = os.path.join(path, model)\n",
    "    for file in os.listdir(model_path):\n",
    "        if file.endswith(\".csv\"):\n",
    "            dataset = file.replace(\".csv\", \"\").replace(\"results_\", \"\")\n",
    "            if dataset in DATASET_metadata:\n",
    "                df = pd.read_csv(os.path.join(model_path, file), index_col=0)\n",
    "                df[\"embedder\"] = model.replace(\"custom:MOSES_512_10_lr1e-4_gine\", \"student\")\n",
    "                df[\"dataset\"] = dataset\n",
    "                dfs.append(df)\n",
    "        else:\n",
    "            model_path = os.path.join(model_path, file)\n",
    "            for file in os.listdir(model_path):\n",
    "                if file.endswith(\".csv\"):\n",
    "                    dataset = file.replace(\".csv\", \"\").replace(\"results_\", \"\")\n",
    "                    if dataset in DATASET_metadata:\n",
    "                        df = pd.read_csv(os.path.join(model_path, file), index_col=0)\n",
    "                        df[\"embedder\"] = model.replace(\"custom:MOSES_512_10_lr1e-4_gine\", \"student\")\n",
    "                        df[\"dataset\"] = dataset\n",
    "                        dfs.append(df)\n",
    "            continue\n",
    "\n",
    "df= pd.concat(dfs)\n",
    "\n",
    "df_or = df.groupby([\"dataset\", \"embedder\"]).metric_test.mean().reset_index()\n",
    "df = df_or.pivot_table(index=\"embedder\", columns=\"dataset\", values=\"metric_test\")\n",
    "df.dropna(axis=1, inplace=True)\n",
    "# drop column and index names\n",
    "df.index.name = None\n",
    "order = df.mean(axis=1).sort_values(ascending=False).index.tolist()\n",
    "order.remove(\"student\")\n",
    "order= [\"student\"] + order\n",
    "\n",
    "df.mean(axis=1).sort_values(ascending=False)\n",
    "\n",
    "df = df.loc[order[::-1],:]\n",
    "df.index = df.index.str.replace(\"_\", \" \")\n",
    "\n",
    "df.columns = pd.MultiIndex.from_tuples([(\n",
    "    DATASET_metadata[c][1], DATASET_metadata[c][0]\n",
    ") for c in df.columns])\n",
    "df[(\"\",\"mean\")] = df.mean(axis=1)\n",
    "df"
   ],
   "metadata": {
    "collapsed": false
   }
  },
  {
   "cell_type": "code",
   "execution_count": null,
   "outputs": [],
   "source": [
    "# Bold the best value for each dataset\n",
    "def highlight_max(s):\n",
    "    is_max = s == s.max()\n",
    "    return ['font-weight: bold' if v else '' for v in is_max]\n",
    "# Order columns\n",
    "df = df[sorted(df.columns, key=lambda x: x[0])]\n",
    "\n",
    "style = df.style.format(\"{:.3f}\").highlight_max(axis=0, props='bfseries:')\n",
    "style = style.format(\"{:.3f}\")\n",
    "style"
   ],
   "metadata": {
    "collapsed": false
   }
  },
  {
   "cell_type": "code",
   "execution_count": null,
   "outputs": [],
   "source": [
    "\n",
    "\n",
    "col_format = \"r|\"\n",
    "\n",
    "over_cols = None\n",
    "for ov_col, col in df.columns:\n",
    "    if over_cols != ov_col:\n",
    "        col_format += \"|\"\n",
    "        over_cols = ov_col\n",
    "    col_format += \"c\"\n",
    "col_format += \"|\"\n",
    "\n",
    "latex = style.to_latex(\n",
    "    column_format=col_format,\n",
    "    multicol_align=\"|c|\",\n",
    "    siunitx=True,\n",
    ")\n",
    "\n",
    "table_path = \"/home/philippe/Distill/latex/Distillation-MI-ICLR/tables/molecules/molecule_results_reg.tex\"\n",
    "with open(table_path, \"w\") as f:\n",
    "    f.write(latex)"
   ],
   "metadata": {
    "collapsed": false
   }
  },
  {
   "cell_type": "code",
   "execution_count": null,
   "outputs": [],
   "source": [],
   "metadata": {
    "collapsed": false
   }
  },
  {
   "cell_type": "code",
   "execution_count": null,
   "outputs": [],
   "source": [],
   "metadata": {
    "collapsed": false
   }
  }
 ],
 "metadata": {
  "kernelspec": {
   "display_name": "Python 3",
   "language": "python",
   "name": "python3"
  },
  "language_info": {
   "codemirror_mode": {
    "name": "ipython",
    "version": 2
   },
   "file_extension": ".py",
   "mimetype": "text/x-python",
   "name": "python",
   "nbconvert_exporter": "python",
   "pygments_lexer": "ipython2",
   "version": "2.7.6"
  }
 },
 "nbformat": 4,
 "nbformat_minor": 0
}
