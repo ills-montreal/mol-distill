{
 "cells": [
  {
   "cell_type": "code",
   "execution_count": null,
   "metadata": {
    "collapsed": true
   },
   "outputs": [],
   "source": [
    "import pandas as pd\n",
    "\n",
    "import matplotlib.pyplot as plt\n",
    "import seaborn as sns\n",
    "\n",
    "MODELS_TO_KEEP = [\n",
    "    \"ChemBertMLM-10M\",\n",
    "    \"ChemBertMTR-77M\",\n",
    "    \"ChemGPT-1.2B\",\n",
    "    \"ContextPred\",\n",
    "    \"GraphMVP\",\n",
    "    \"GROVER\",\n",
    "    \"GraphLog\",\n",
    "    \"GraphCL\",\n",
    "    \"InfoGraph\",\n",
    "    \"FRAD_QM9\",\n",
    "    \"MolR_gat\",\n",
    "    \"ThreeDInfomax\",\n",
    "]\n",
    "\n",
    "DATASET_NEW_NAME = {\n",
    "    \"hERG\": \"hERG\",\n",
    "    \"hERG_Karim\": \"hERG (k)\",\n",
    "    \"AMES\": \"AMES\",\n",
    "    \"DILI\": \"DILI\",\n",
    "    \"Carcinogens_Lagunin\": \"Carcinogens\",\n",
    "    \"Skin__Reaction\": \"Skin R\",\n",
    "    \"Tox21\": \"Tox21\",\n",
    "    \"ClinTox\": \"ClinTox\",\n",
    "    \"LD50_Zhu\": \"LD50\",\n",
    "    \"PAMPA_NCATS\": \"PAMPA\",\n",
    "    \"HIA_Hou\": \"HIA\",\n",
    "    \"Pgp_Broccatelli\": \"Pgp\",\n",
    "    \"Bioavailability_Ma\": \"Bioavailability\",\n",
    "    \"Caco2_Wang\": \"Caco2\",\n",
    "    \"Lipophilicity_AstraZeneca\": \"Lipophilicity\",\n",
    "    \"Solubility_AqSolDB\": \"Solubility\",\n",
    "    \"HydrationFreeEnergy_FreeSolv\": \"FreeSolv\",\n",
    "    \"BBB_Martins\": \"BBB\",\n",
    "    \"PPBR_AZ\": \"PPBR\",\n",
    "    \"VDss_Lombardo\": \"VDss\",\n",
    "    \"CYP2C19_Veith\": \"CYP2C19\",\n",
    "    \"CYP2D6_Veith\": \"CYP2D6\",\n",
    "    \"CYP3A4_Veith\": \"CYP3A4\",\n",
    "    \"CYP1A2_Veith\": \"CYP1A2\",\n",
    "    \"CYP2C9_Veith\": \"CYP2C9\",\n",
    "    \"CYP2C9_Substrate_CarbonMangels\" : \"CYP2C9 (s)\",\n",
    "    \"CYP2D6_Substrate_CarbonMangels\" : \"CYP2D6 (s)\",\n",
    "    \"CYP3A4_Substrate_CarbonMangels\" : \"CYP3A4 (s)\",\n",
    "    \"Half_Life_Obach\" : \"Half Life\",\n",
    "    \"Clearance_Hepatocyte_AZ\" : \"Clearance (H)\",\n",
    "    \"Clearance_Microsome_AZ\" : \"Clearance (M)\",\n",
    "}"
   ]
  },
  {
   "cell_type": "code",
   "execution_count": null,
   "outputs": [],
   "source": [
    "df_baselines = pd.read_csv('../baslines.csv')[[\"embedder\", \"dataset\", \"metric_test\"]]\n",
    "df_distill = pd.read_csv('../model_95.csv')[[\"embedder\", \"dataset\", \"metric_test\"]]\n",
    "df_distill[\"embedder\"] = \"distill\"\n",
    "\n",
    "df_baselines = df_baselines[df_baselines.embedder.isin(MODELS_TO_KEEP)]\n",
    "df_or = pd.concat([df_baselines, df_distill]).groupby([\"dataset\", \"embedder\"]).metric_test.mean().reset_index()\n",
    "df = df_or.pivot_table(index=\"embedder\", columns=\"dataset\", values=\"metric_test\")\n",
    "df.dropna(axis=1, inplace=True)\n",
    "# drop column and index names\n",
    "df.index.name = None\n",
    "order = df.mean(axis=1).sort_values(ascending=False).index\n",
    "\n",
    "df.mean(axis=1).sort_values(ascending=False)\n",
    "\n",
    "\n",
    "\n",
    "DATASET_NEW_NAME = {d: DATASET_NEW_NAME[d] for d in DATASET_NEW_NAME if d in df.columns}\n",
    "df = df.rename(columns=DATASET_NEW_NAME)\n",
    "df = df[DATASET_NEW_NAME.values()]\n",
    "df = df.loc[order[::-1],:]\n",
    "df.index = df.index.str.replace(\"_\", \" \")\n",
    "\n",
    "df"
   ],
   "metadata": {
    "collapsed": false
   }
  },
  {
   "cell_type": "code",
   "execution_count": null,
   "outputs": [],
   "source": [
    "# Bold the best value for each dataset\n",
    "def highlight_max(s):\n",
    "    is_max = s == s.max()\n",
    "    return ['font-weight: bold' if v else '' for v in is_max]\n",
    "\n",
    "#Render with everything in 5pt font\n",
    "style = df.style.format(\"{:.3f}\").highlight_max(axis=0, props='bfseries:')\n"
   ],
   "metadata": {
    "collapsed": false
   }
  },
  {
   "cell_type": "code",
   "execution_count": null,
   "outputs": [],
   "source": [
    "latex = style.to_latex()\n",
    "\n",
    "with open(\"table.tex\", \"w\") as f:\n",
    "    f.write(latex)"
   ],
   "metadata": {
    "collapsed": false
   }
  },
  {
   "cell_type": "code",
   "execution_count": null,
   "outputs": [],
   "source": [],
   "metadata": {
    "collapsed": false
   }
  },
  {
   "cell_type": "code",
   "execution_count": null,
   "outputs": [],
   "source": [],
   "metadata": {
    "collapsed": false
   }
  }
 ],
 "metadata": {
  "kernelspec": {
   "display_name": "Python 3",
   "language": "python",
   "name": "python3"
  },
  "language_info": {
   "codemirror_mode": {
    "name": "ipython",
    "version": 2
   },
   "file_extension": ".py",
   "mimetype": "text/x-python",
   "name": "python",
   "nbconvert_exporter": "python",
   "pygments_lexer": "ipython2",
   "version": "2.7.6"
  }
 },
 "nbformat": 4,
 "nbformat_minor": 0
}
