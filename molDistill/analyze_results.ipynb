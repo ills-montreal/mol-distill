{
 "cells": [
  {
   "cell_type": "code",
   "execution_count": 11,
   "outputs": [],
   "source": [
    "import os\n",
    "path = \"../../data/ZINC\"\n",
    "files_npy = [f for f in os.listdir(path) if f.endswith(\".npy\")]"
   ],
   "metadata": {
    "collapsed": false,
    "ExecuteTime": {
     "end_time": "2024-08-08T14:31:08.126227867Z",
     "start_time": "2024-08-08T14:31:08.123291601Z"
    }
   }
  },
  {
   "cell_type": "code",
   "execution_count": 12,
   "outputs": [
    {
     "name": "stdout",
     "output_type": "stream",
     "text": [
      "ThreeDInfomax.npy\n",
      "GraphCL.npy\n",
      "GROVER.npy\n",
      "ChemGPT-4.7M.npy\n",
      "ChemGPT-19M.npy\n",
      "ChemBertMLM-10M.npy\n",
      "ContextPred.npy\n",
      "MolR_gcn.npy\n",
      "MolBert.npy\n",
      "ChemBertMTR-77M.npy\n",
      "MoleOOD_OGB_GIN.npy\n",
      "MolR_tag.npy\n",
      "MoleOOD_OGB_SAGE.npy\n",
      "GraphLog.npy\n",
      "MoleOOD_OGB_GCN.npy\n",
      "ChemBertMTR-10M.npy\n",
      "InfoGraph.npy\n",
      "GPT-GNN.npy\n",
      "ChemGPT-1.2B.npy\n",
      "AttributeMask.npy\n",
      "MolR_gat.npy\n",
      "DenoisingPretrainingPQCMv4.npy\n",
      "ChemBertMTR-5M.npy\n",
      "ChemBertMLM-5M.npy\n",
      "ChemBertMLM-77M.npy\n",
      "GraphMVP.npy\n",
      "FRAD_QM9.npy\n"
     ]
    }
   ],
   "source": [
    "import numpy as np\n",
    "\n",
    "for f in files_npy:\n",
    "    print(f)\n",
    "    shape=np.load(os.path.join(path, f)).shape\n",
    "    np.save(os.path.join(path, f.replace(\".npy\", \"_shape.npy\")), shape)"
   ],
   "metadata": {
    "collapsed": false,
    "ExecuteTime": {
     "end_time": "2024-08-08T14:31:44.543266176Z",
     "start_time": "2024-08-08T14:31:09.617067741Z"
    }
   }
  },
  {
   "cell_type": "code",
   "execution_count": null,
   "outputs": [],
   "source": [],
   "metadata": {
    "collapsed": false
   }
  },
  {
   "cell_type": "code",
   "execution_count": null,
   "metadata": {
    "collapsed": true
   },
   "outputs": [],
   "source": [
    "import pandas as pd\n",
    "\n",
    "import matplotlib.pyplot as plt\n",
    "import seaborn as sns"
   ]
  },
  {
   "cell_type": "code",
   "execution_count": null,
   "outputs": [],
   "source": [
    "df_baselines = pd.read_csv('../baslines.csv')[[\"embedder\", \"dataset\", \"metric_test\"]]\n",
    "df_distill = pd.read_csv('../ckpt.csv')[[\"epoch\", \"dataset\", \"metric_test\"]]\n",
    "last_epoch = df_distill.groupby(\"dataset\").epoch.max()\n",
    "df_distill = df_distill[df_distill.epoch.isin(last_epoch)]\n",
    "df_distill = df_distill.rename(columns={\"epoch\": \"embedder\"})"
   ],
   "metadata": {
    "collapsed": false
   }
  },
  {
   "cell_type": "code",
   "execution_count": null,
   "outputs": [],
   "source": [
    "df_or = pd.concat([df_baselines, df_distill]).groupby([\"dataset\", \"embedder\"]).metric_test.mean().reset_index()\n",
    "df = df_or.pivot_table(index=\"embedder\", columns=\"dataset\", values=\"metric_test\")\n",
    "df.dropna(axis=1, inplace=True)\n",
    "# drop column and index names\n",
    "df.index.name = None\n",
    "\n",
    "df"
   ],
   "metadata": {
    "collapsed": false
   }
  },
  {
   "cell_type": "code",
   "execution_count": null,
   "outputs": [],
   "source": [
    "df.mean(axis=1).sort_values(ascending=False)"
   ],
   "metadata": {
    "collapsed": false
   }
  },
  {
   "cell_type": "code",
   "execution_count": null,
   "outputs": [],
   "source": [
    "models = df.mean(axis=1).sort_values(ascending=False)[:15].index.tolist()"
   ],
   "metadata": {
    "collapsed": false
   }
  },
  {
   "cell_type": "code",
   "execution_count": null,
   "outputs": [],
   "source": [
    "# Bold the best value for each dataset\n",
    "def highlight_max(s):\n",
    "    is_max = s == s.max()\n",
    "    return ['font-weight: bold' if v else '' for v in is_max]\n",
    "\n",
    "df.transpose()[models].style.apply(highlight_max, axis=1)\n",
    "\n"
   ],
   "metadata": {
    "collapsed": false
   }
  },
  {
   "cell_type": "code",
   "execution_count": null,
   "outputs": [],
   "source": [
    "df_or\n",
    "# Remove all dataset with missing values\n",
    "df_or = df_or[df_or.dataset.isin(df.columns)]"
   ],
   "metadata": {
    "collapsed": false
   }
  },
  {
   "cell_type": "code",
   "execution_count": null,
   "outputs": [],
   "source": [
    "fig = plt.figure(figsize=(5, 15))\n",
    "N_MODELS = 10\n",
    "df_tmp = df_or[\n",
    "    df_or.embedder.isin(models[:N_MODELS])\n",
    "]\n",
    "df_tmp.metric_test = df_tmp.metric_test - df_or.groupby(\"dataset\").metric_test.transform(\"min\")\n",
    "\n",
    "sns.barplot(data=df_tmp, y=\"dataset\", x=\"metric_test\", hue=\"embedder\", hue_order=models[:N_MODELS])"
   ],
   "metadata": {
    "collapsed": false
   }
  },
  {
   "cell_type": "code",
   "execution_count": null,
   "outputs": [],
   "source": [],
   "metadata": {
    "collapsed": false
   }
  }
 ],
 "metadata": {
  "kernelspec": {
   "display_name": "Python 3",
   "language": "python",
   "name": "python3"
  },
  "language_info": {
   "codemirror_mode": {
    "name": "ipython",
    "version": 2
   },
   "file_extension": ".py",
   "mimetype": "text/x-python",
   "name": "python",
   "nbconvert_exporter": "python",
   "pygments_lexer": "ipython2",
   "version": "2.7.6"
  }
 },
 "nbformat": 4,
 "nbformat_minor": 0
}
