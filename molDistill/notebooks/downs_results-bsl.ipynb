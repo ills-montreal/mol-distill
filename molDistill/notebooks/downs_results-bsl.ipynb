{
 "cells": [
  {
   "cell_type": "code",
   "execution_count": null,
   "outputs": [],
   "source": [
    "%cd ../.."
   ],
   "metadata": {
    "collapsed": false
   }
  },
  {
   "cell_type": "code",
   "execution_count": null,
   "metadata": {
    "collapsed": true
   },
   "outputs": [],
   "source": [
    "import os.path\n",
    "\n",
    "import pandas as pd\n",
    "\n",
    "import matplotlib.pyplot as plt\n",
    "import seaborn as sns\n",
    "\n",
    "from molDistill.utils.notebooks import *\n",
    "\n",
    "STUDENT_MODEL = \"model_275.pth\"\n",
    "L2_model = \"model_40\"\n",
    "\n",
    "MODELS_TO_EVAL = [STUDENT_MODEL, L2_model]\n"
   ]
  },
  {
   "cell_type": "markdown",
   "source": [
    "# Mean Performances Classif"
   ],
   "metadata": {
    "collapsed": false
   }
  },
  {
   "cell_type": "code",
   "execution_count": null,
   "outputs": [],
   "source": [
    "DATASETS = df_metadata[df_metadata.task_type == \"cls\"].index.tolist()\n",
    "\n",
    "df_base= get_all_results(MODELS_TO_EVAL, \"downstream_results\", DATASETS, renames=[\n",
    "    (STUDENT_MODEL,\"student\"),\n",
    "    (L2_model, \"L2\"),\n",
    "],)\n",
    "\n",
    "\n",
    "df, order = aggregate_results_with_ci(df_base)\n",
    "style,latex = style_df_ci(df, order)\n",
    "\n",
    "table_path = f\"/home/philippe/Distill/latex/Distillation-MI-ICLR/tables/molecules/molecule_results_compar_cls.tex\"\n",
    "with open(table_path, \"w\") as f:\n",
    "    f.write(latex)"
   ],
   "metadata": {
    "collapsed": false
   }
  },
  {
   "cell_type": "code",
   "execution_count": null,
   "outputs": [],
   "source": [
    "DATASETS = df_metadata[df_metadata.task_type == \"reg\"].index.tolist()\n",
    "\n",
    "df_base= get_all_results(MODELS_TO_EVAL, \"downstream_results\", DATASETS, renames=[\n",
    "    (STUDENT_MODEL,\"student\"),\n",
    "    (L2_model, \"L2\"),\n",
    "],)\n",
    "\n",
    "\n",
    "df, order = aggregate_results_with_ci(df_base)\n",
    "style,latex = style_df_ci(df, order)\n",
    "\n",
    "table_path = f\"/home/philippe/Distill/latex/Distillation-MI-ICLR/tables/molecules/molecule_results_compar_reg.tex\"\n",
    "with open(table_path, \"w\") as f:\n",
    "    f.write(latex)"
   ],
   "metadata": {
    "collapsed": false
   }
  },
  {
   "cell_type": "code",
   "execution_count": null,
   "outputs": [],
   "source": [],
   "metadata": {
    "collapsed": false
   }
  }
 ],
 "metadata": {
  "kernelspec": {
   "display_name": "Python 3",
   "language": "python",
   "name": "python3"
  },
  "language_info": {
   "codemirror_mode": {
    "name": "ipython",
    "version": 2
   },
   "file_extension": ".py",
   "mimetype": "text/x-python",
   "name": "python",
   "nbconvert_exporter": "python",
   "pygments_lexer": "ipython2",
   "version": "2.7.6"
  }
 },
 "nbformat": 4,
 "nbformat_minor": 0
}
