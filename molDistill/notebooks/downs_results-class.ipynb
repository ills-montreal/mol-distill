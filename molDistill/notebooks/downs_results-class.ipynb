{
 "cells": [
  {
   "cell_type": "code",
   "execution_count": 42,
   "metadata": {
    "collapsed": true,
    "ExecuteTime": {
     "end_time": "2024-09-06T18:30:36.000332193Z",
     "start_time": "2024-09-06T18:30:35.994631687Z"
    }
   },
   "outputs": [],
   "source": [
    "import os.path\n",
    "\n",
    "import pandas as pd\n",
    "\n",
    "import matplotlib.pyplot as plt\n",
    "import seaborn as sns\n",
    "\n",
    "MODELS_TO_EVAL = [\n",
    "    \"ChemBertMLM-10M\",\n",
    "    \"ChemBertMTR-77M\",\n",
    "    \"ChemGPT-1.2B\",\n",
    "    \"GraphMVP\",\n",
    "    \"GROVER\",\n",
    "    \"GraphLog\",\n",
    "    \"GraphCL\",\n",
    "    \"InfoGraph\",\n",
    "    \"FRAD_QM9\",\n",
    "    \"MolR_gat\",\n",
    "    \"ThreeDInfomax\",\n",
    "    \"custom:MOSES_512_10_lr1e-4_gine\"\n",
    "]\n",
    "\n",
    "DATASET_metadata = {\n",
    "    \"hERG\": (\"hERG\", \"Tox\"),\n",
    "    \"hERG_Karim\": (\"hERG (k)\", \"Tox\"),\n",
    "    \"AMES\": (\"AMES\", \"Tox\"),\n",
    "    \"DILI\": (\"DILI\", \"Tox\"),\n",
    "    \"Carcinogens_Lagunin\": (\"Carcinogens\", \"Tox\"),\n",
    "    \"Skin__Reaction\": (\"Skin R\", \"Tox\"),\n",
    "    \"Tox21\": (\"Tox21\", \"Tox\"),\n",
    "    \"ClinTox\": (\"ClinTox\", \"Tox\"),\n",
    "    \"PAMPA_NCATS\": (\"PAMPA\", \"Absorption\"),\n",
    "    \"HIA_Hou\": (\"HIA\", \"Absorption\"),\n",
    "    \"Pgp_Broccatelli\": (\"Pgp\", \"Absorption\"),\n",
    "    \"Bioavailability_Ma\": (\"Bioavailability\", \"Absorption\"),\n",
    "    \"BBB_Martins\": (\"BBB\", \"Distribution\"),\n",
    "    \"CYP2C19_Veith\": (\"CYP2C19\", \"Metabolism\"),\n",
    "    \"CYP2D6_Veith\": (\"CYP2D6\", \"Metabolism\"),\n",
    "    \"CYP3A4_Veith\": (\"CYP3A4\", \"Metabolism\"),\n",
    "    \"CYP1A2_Veith\": (\"CYP1A2\", \"Metabolism\"),\n",
    "    \"CYP2C9_Veith\": (\"CYP2C9\", \"Metabolism\"),\n",
    "    \"CYP2C9_Substrate_CarbonMangels\" : (\"CYP2C9 (s)\", \"Metabolism\"),\n",
    "    \"CYP2D6_Substrate_CarbonMangels\" : (\"CYP2D6 (s)\", \"Metabolism\"),\n",
    "    \"CYP3A4_Substrate_CarbonMangels\" : (\"CYP3A4 (s)\", \"Metabolism\"),\n",
    "}\n"
   ]
  },
  {
   "cell_type": "code",
   "execution_count": 44,
   "outputs": [
    {
     "data": {
      "text/plain": "                                              0             1\nhERG                                       hERG           Tox\nhERG_Karim                             hERG (k)           Tox\nAMES                                       AMES           Tox\nDILI                                       DILI           Tox\nCarcinogens_Lagunin                 Carcinogens           Tox\nSkin__Reaction                           Skin R           Tox\nTox21                                     Tox21           Tox\nClinTox                                 ClinTox           Tox\nPAMPA_NCATS                               PAMPA    Absorption\nHIA_Hou                                     HIA    Absorption\nPgp_Broccatelli                             Pgp    Absorption\nBioavailability_Ma              Bioavailability    Absorption\nBBB_Martins                                 BBB  Distribution\nCYP2C19_Veith                           CYP2C19    Metabolism\nCYP2D6_Veith                             CYP2D6    Metabolism\nCYP3A4_Veith                             CYP3A4    Metabolism\nCYP1A2_Veith                             CYP1A2    Metabolism\nCYP2C9_Veith                             CYP2C9    Metabolism\nCYP2C9_Substrate_CarbonMangels       CYP2C9 (s)    Metabolism\nCYP2D6_Substrate_CarbonMangels       CYP2D6 (s)    Metabolism\nCYP3A4_Substrate_CarbonMangels       CYP3A4 (s)    Metabolism",
      "text/html": "<div>\n<style scoped>\n    .dataframe tbody tr th:only-of-type {\n        vertical-align: middle;\n    }\n\n    .dataframe tbody tr th {\n        vertical-align: top;\n    }\n\n    .dataframe thead th {\n        text-align: right;\n    }\n</style>\n<table border=\"1\" class=\"dataframe\">\n  <thead>\n    <tr style=\"text-align: right;\">\n      <th></th>\n      <th>0</th>\n      <th>1</th>\n    </tr>\n  </thead>\n  <tbody>\n    <tr>\n      <th>hERG</th>\n      <td>hERG</td>\n      <td>Tox</td>\n    </tr>\n    <tr>\n      <th>hERG_Karim</th>\n      <td>hERG (k)</td>\n      <td>Tox</td>\n    </tr>\n    <tr>\n      <th>AMES</th>\n      <td>AMES</td>\n      <td>Tox</td>\n    </tr>\n    <tr>\n      <th>DILI</th>\n      <td>DILI</td>\n      <td>Tox</td>\n    </tr>\n    <tr>\n      <th>Carcinogens_Lagunin</th>\n      <td>Carcinogens</td>\n      <td>Tox</td>\n    </tr>\n    <tr>\n      <th>Skin__Reaction</th>\n      <td>Skin R</td>\n      <td>Tox</td>\n    </tr>\n    <tr>\n      <th>Tox21</th>\n      <td>Tox21</td>\n      <td>Tox</td>\n    </tr>\n    <tr>\n      <th>ClinTox</th>\n      <td>ClinTox</td>\n      <td>Tox</td>\n    </tr>\n    <tr>\n      <th>PAMPA_NCATS</th>\n      <td>PAMPA</td>\n      <td>Absorption</td>\n    </tr>\n    <tr>\n      <th>HIA_Hou</th>\n      <td>HIA</td>\n      <td>Absorption</td>\n    </tr>\n    <tr>\n      <th>Pgp_Broccatelli</th>\n      <td>Pgp</td>\n      <td>Absorption</td>\n    </tr>\n    <tr>\n      <th>Bioavailability_Ma</th>\n      <td>Bioavailability</td>\n      <td>Absorption</td>\n    </tr>\n    <tr>\n      <th>BBB_Martins</th>\n      <td>BBB</td>\n      <td>Distribution</td>\n    </tr>\n    <tr>\n      <th>CYP2C19_Veith</th>\n      <td>CYP2C19</td>\n      <td>Metabolism</td>\n    </tr>\n    <tr>\n      <th>CYP2D6_Veith</th>\n      <td>CYP2D6</td>\n      <td>Metabolism</td>\n    </tr>\n    <tr>\n      <th>CYP3A4_Veith</th>\n      <td>CYP3A4</td>\n      <td>Metabolism</td>\n    </tr>\n    <tr>\n      <th>CYP1A2_Veith</th>\n      <td>CYP1A2</td>\n      <td>Metabolism</td>\n    </tr>\n    <tr>\n      <th>CYP2C9_Veith</th>\n      <td>CYP2C9</td>\n      <td>Metabolism</td>\n    </tr>\n    <tr>\n      <th>CYP2C9_Substrate_CarbonMangels</th>\n      <td>CYP2C9 (s)</td>\n      <td>Metabolism</td>\n    </tr>\n    <tr>\n      <th>CYP2D6_Substrate_CarbonMangels</th>\n      <td>CYP2D6 (s)</td>\n      <td>Metabolism</td>\n    </tr>\n    <tr>\n      <th>CYP3A4_Substrate_CarbonMangels</th>\n      <td>CYP3A4 (s)</td>\n      <td>Metabolism</td>\n    </tr>\n  </tbody>\n</table>\n</div>"
     },
     "execution_count": 44,
     "metadata": {},
     "output_type": "execute_result"
    }
   ],
   "source": [
    "df_metadata"
   ],
   "metadata": {
    "collapsed": false,
    "ExecuteTime": {
     "end_time": "2024-09-06T18:31:03.363528207Z",
     "start_time": "2024-09-06T18:31:03.351630346Z"
    }
   }
  },
  {
   "cell_type": "markdown",
   "source": [
    "# Mean Performances"
   ],
   "metadata": {
    "collapsed": false
   }
  },
  {
   "cell_type": "code",
   "execution_count": null,
   "outputs": [],
   "source": [
    "path = \"../downstream_results\"\n",
    "dfs = []\n",
    "for model in MODELS_TO_EVAL:\n",
    "    model_path = os.path.join(path, model)\n",
    "    for file in os.listdir(model_path):\n",
    "        if file.endswith(\".csv\"):\n",
    "            dataset = file.replace(\".csv\", \"\").replace(\"results_\", \"\")\n",
    "            if dataset in DATASET_metadata:\n",
    "                df = pd.read_csv(os.path.join(model_path, file), index_col=0)\n",
    "                df[\"embedder\"] = model.replace(\"custom:MOSES_512_10_lr1e-4_gine\", \"student\")\n",
    "                df[\"dataset\"] = dataset\n",
    "                dfs.append(df)\n",
    "        else:\n",
    "            model_path = os.path.join(model_path, file)\n",
    "            for file in os.listdir(model_path):\n",
    "                if file.endswith(\".csv\"):\n",
    "                    dataset = file.replace(\".csv\", \"\").replace(\"results_\", \"\")\n",
    "                    if dataset in DATASET_metadata:\n",
    "                        df = pd.read_csv(os.path.join(model_path, file), index_col=0)\n",
    "                        df[\"embedder\"] = model.replace(\"custom:MOSES_512_10_lr1e-4_gine\", \"student\")\n",
    "                        df[\"dataset\"] = dataset\n",
    "                        dfs.append(df)\n",
    "            continue\n",
    "\n",
    "df_base= pd.concat(dfs)\n",
    "\n",
    "df_m = df_base.groupby([\"dataset\", \"embedder\"]).metric_test.mean().reset_index()\n",
    "df_m[\"dataset\"] = df_m[\"dataset\"] + \" mean\"\n",
    "df_v = df_base.groupby([\"dataset\", \"embedder\"]).metric_test.std().reset_index()\n",
    "df_v[\"dataset\"] = df_v[\"dataset\"] + \" std\"\n",
    "\n",
    "\n",
    "df = df_m.pivot_table(index=\"embedder\", columns=\"dataset\", values=\"metric_test\").join(df_v.pivot_table(index=\"embedder\", columns=\"dataset\", values=\"metric_test\"))\n",
    "df.dropna(axis=1, inplace=True)\n",
    "# drop column and index names\n",
    "df.index.name = None\n",
    "order = df.mean(axis=1).sort_values(ascending=False).index\n",
    "\n",
    "\n",
    "\n",
    "\n",
    "df.columns = pd.MultiIndex.from_tuples([(\n",
    "    DATASET_metadata[c.split(\" \")[0]][1], DATASET_metadata[c.split(\" \")[0]][0] + c.split(\" \")[1].replace(\"mean\", \"\").replace(\"std\", \" std\")) for c in df.columns])\n",
    "\n",
    "df[(\" \",\"avg\")] = df_m.pivot_table(index=\"embedder\", columns=\"dataset\", values=\"metric_test\").mean(axis=1)\n",
    "df[(\" \",\"avg std\")] = df_m.pivot_table(index=\"embedder\", columns=\"dataset\", values=\"metric_test\").std(axis=1)\n",
    "\n",
    "\n",
    "\n",
    "df = df.loc[order[::-1],:]\n",
    "df.index = df.index.str.replace(\"_\", \" \")\n",
    "\n",
    "df = df[sorted(df.columns, key=lambda x: x[0])]\n",
    "# Get ind of all maxs of mean\n",
    "maxs = df.idxmax(axis=0)"
   ],
   "metadata": {
    "collapsed": false
   }
  },
  {
   "cell_type": "code",
   "execution_count": null,
   "outputs": [],
   "source": [
    "style = df.copy()\n",
    "for col in style.columns:\n",
    "    if not col[1].endswith(\"std\"):\n",
    "        style[col] =\"$\"+ style[col].apply(lambda x: f\"{x:.3f}\") + \" \\pm \" + style[(col[0], col[1] + \" std\")].apply(lambda x: f\"{x:.3f}\")+'$'\n",
    "\n",
    "style.drop(columns=[(col[0], col[1] + \" std\") for col in style.columns if not col[1].endswith(\"std\")], inplace=True)\n",
    "\n",
    "for col in style.columns:\n",
    "    best = maxs[col]\n",
    "    style.loc[best,col] = \"\\\\boldsymbol{\" + style.loc[best,col] + \"}\"\n",
    "\n",
    "\n",
    "style = style.style.highlight_max(axis=0, props='bfseries:')\n",
    "\n",
    "# Make the table with confidence intervals\n",
    "style"
   ],
   "metadata": {
    "collapsed": false
   }
  },
  {
   "cell_type": "code",
   "execution_count": null,
   "outputs": [],
   "source": [
    "col_format= \"r|\"\n",
    "\n",
    "over_cols = 'This is not a column name that will be used'\n",
    "for ov_col, col in style.columns:\n",
    "    if over_cols != ov_col:\n",
    "        col_format += \"|\"\n",
    "        over_cols = ov_col\n",
    "    col_format += \"c\"\n",
    "col_format += \"|\"\n",
    "\n",
    "latex = style.to_latex(\n",
    "    column_format=col_format,\n",
    "    multicol_align=\"|c|\",\n",
    "    siunitx=True,\n",
    ")\n",
    "\n",
    "\n",
    "table_path = \"/home/philippe/Distill/latex/Distillation-MI-ICLR/tables/molecules/molecule_results_cls.tex\"\n",
    "with open(table_path, \"w\") as f:\n",
    "    f.write(latex)"
   ],
   "metadata": {
    "collapsed": false
   }
  },
  {
   "cell_type": "code",
   "execution_count": null,
   "outputs": [],
   "source": [
    "style"
   ],
   "metadata": {
    "collapsed": false
   }
  },
  {
   "cell_type": "code",
   "execution_count": null,
   "outputs": [],
   "source": [
    "df_base"
   ],
   "metadata": {
    "collapsed": false
   }
  },
  {
   "cell_type": "markdown",
   "source": [
    "# Rankings"
   ],
   "metadata": {
    "collapsed": false
   }
  },
  {
   "cell_type": "code",
   "execution_count": null,
   "outputs": [],
   "source": [
    "path = \"../downstream_results\"\n",
    "dfs = []\n",
    "for model in MODELS_TO_EVAL:\n",
    "    model_path = os.path.join(path, model)\n",
    "    for file in os.listdir(model_path):\n",
    "        if file.endswith(\".csv\"):\n",
    "            dataset = file.replace(\".csv\", \"\").replace(\"results_\", \"\")\n",
    "            if dataset in DATASET_metadata:\n",
    "                df = pd.read_csv(os.path.join(model_path, file), index_col=0)\n",
    "                df[\"embedder\"] = model.replace(\"custom:MOSES_512_10_lr1e-4_gine\", \"student\")\n",
    "                df[\"dataset\"] = dataset\n",
    "                dfs.append(df)\n",
    "        else:\n",
    "            model_path = os.path.join(model_path, file)\n",
    "            for file in os.listdir(model_path):\n",
    "                if file.endswith(\".csv\"):\n",
    "                    dataset = file.replace(\".csv\", \"\").replace(\"results_\", \"\")\n",
    "                    if dataset in DATASET_metadata:\n",
    "                        df = pd.read_csv(os.path.join(model_path, file), index_col=0)\n",
    "                        df[\"embedder\"] = model.replace(\"custom:MOSES_512_10_lr1e-4_gine\", \"student\")\n",
    "                        df[\"dataset\"] = dataset\n",
    "                        dfs.append(df)\n",
    "            continue\n",
    "\n",
    "df_base= pd.concat(dfs)\n",
    "\n",
    "\n",
    "df_base[\"embedder\"] = df_base[\"embedder\"].replace(\"custom:MOSES_512_10_lr1e-4_gine\", \"student\")\n",
    "df_base.reset_index(inplace=True, drop=True)\n",
    "df_base[\"id\"] = df_base.index%5\n",
    "\n",
    "df_base"
   ],
   "metadata": {
    "collapsed": false
   }
  },
  {
   "cell_type": "code",
   "execution_count": null,
   "outputs": [],
   "source": [
    "# Compute meanrank\n",
    "import autorank\n",
    "\n",
    "import seaborn as sns\n",
    "import matplotlib.pyplot as plt\n",
    "\n",
    "def get_ranked_df(df_base):\n",
    "    ranked_df = pd.DataFrame()\n",
    "    ranked_df[\"embedder\"] = order[::-1]\n",
    "    for dataset in df_base.dataset.unique():\n",
    "        df_to_rank = df_base[df_base.dataset == dataset]\n",
    "        df_to_rank = df_to_rank.pivot_table(index=\"id\", columns=\"embedder\", values=\"metric_test\")\n",
    "        results = autorank.autorank(df_to_rank, alpha=0.05, verbose=True, force_mode=\"nonparametric\",).rankdf.reset_index()\n",
    "        results[dataset] = results[\"meanrank\"]\n",
    "        results= results[[\"embedder\", dataset]]\n",
    "        ranked_df = ranked_df.merge(results, on=\"embedder\", how=\"outer\")\n",
    "    return ranked_df"
   ],
   "metadata": {
    "collapsed": false
   }
  },
  {
   "cell_type": "code",
   "execution_count": null,
   "outputs": [],
   "source": [
    "\n",
    "ranked_df = get_ranked_df(df_base)\n",
    "ranked_df.columns = [\"embedder\"] + [DATASET_metadata[c][0] for c in ranked_df.columns[1:]]\n",
    "\n",
    "melted_ranked = ranked_df.melt(id_vars=\"embedder\", var_name=\"dataset\", value_name=\"meanrank\")\n",
    "order_datas =ranked_df.set_index(\"embedder\").transpose()[\"student\"].sort_values().index\n",
    "\n",
    "\n",
    "#define colors for models so that student has more saturation\n",
    "colors = sns.color_palette(\"husl\", len(MODELS_TO_EVAL), desat=0.4)\n",
    "colors[-1] = sns.color_palette(\"husl\", len(MODELS_TO_EVAL))[-1]\n",
    "\n",
    "cmapping = {model.replace(\n",
    "    \"custom:MOSES_512_10_lr1e-4_gine\", \"student\"\n",
    "): color for model, color in zip(MODELS_TO_EVAL, colors)}\n",
    "\n",
    "fig,ax = plt.subplots(figsize=(20,3))\n",
    "\n",
    "sns.barplot(data=melted_ranked, x=\"dataset\", y=\"meanrank\", hue=\"embedder\", ax=ax, order=order_datas, palette=cmapping)\n",
    "sns.despine()\n",
    "#rotate x labels\n",
    "plt.xticks(rotation=45)\n",
    "#Move legend outside\n",
    "plt.legend(loc='upper left', bbox_to_anchor=(1, 1), ncol=1)"
   ],
   "metadata": {
    "collapsed": false
   }
  },
  {
   "cell_type": "code",
   "execution_count": null,
   "outputs": [],
   "source": [
    "style = get_ranked_df(df_base)\n",
    "style[\"embedder\"] = style[\"embedder\"].str.replace(\"_\", \" \")\n",
    "\n",
    "style.set_index(\"embedder\", inplace=True)\n",
    "\n",
    "style.columns= pd.MultiIndex.from_tuples([(\n",
    "    DATASET_metadata[c][1], DATASET_metadata[c][0]) for c in style.columns])\n",
    "style = style[sorted(style.columns, key=lambda x: x[0])]\n",
    "\n",
    "style = style.style.highlight_min(axis=0, props='bfseries:')\n",
    "\n",
    "style\n"
   ],
   "metadata": {
    "collapsed": false
   }
  },
  {
   "cell_type": "code",
   "execution_count": null,
   "outputs": [],
   "source": [
    "col_format = \"r|\"\n",
    "over_cols = None\n",
    "for ov_col, col in style.columns:\n",
    "    if over_cols != ov_col:\n",
    "        col_format += \"|\"\n",
    "        over_cols = ov_col\n",
    "    col_format += \"c\"\n",
    "col_format += \"|\"\n",
    "\n",
    "\n",
    "latex = style.to_latex(\n",
    "    column_format=col_format,\n",
    "    multicol_align=\"|c|\",\n",
    "    siunitx=True,\n",
    ")\n",
    "\n",
    "\n",
    "table_path = \"/home/philippe/Distill/latex/Distillation-MI-ICLR/tables/molecules/molecule_results_cls_rank.tex\"\n",
    "with open(table_path, \"w\") as f:\n",
    "    f.write(latex)"
   ],
   "metadata": {
    "collapsed": false
   }
  },
  {
   "cell_type": "code",
   "execution_count": null,
   "outputs": [],
   "source": [],
   "metadata": {
    "collapsed": false
   }
  }
 ],
 "metadata": {
  "kernelspec": {
   "display_name": "Python 3",
   "language": "python",
   "name": "python3"
  },
  "language_info": {
   "codemirror_mode": {
    "name": "ipython",
    "version": 2
   },
   "file_extension": ".py",
   "mimetype": "text/x-python",
   "name": "python",
   "nbconvert_exporter": "python",
   "pygments_lexer": "ipython2",
   "version": "2.7.6"
  }
 },
 "nbformat": 4,
 "nbformat_minor": 0
}
