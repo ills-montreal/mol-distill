{
 "cells": [
  {
   "cell_type": "code",
   "execution_count": 11,
   "outputs": [
    {
     "name": "stdout",
     "output_type": "stream",
     "text": [
      "/home/philippe\n"
     ]
    },
    {
     "name": "stderr",
     "output_type": "stream",
     "text": [
      "/home/philippe/.conda/envs/mol-distill/lib/python3.10/site-packages/IPython/core/magics/osm.py:417: UserWarning: This is now an optional IPython functionality, setting dhist requires you to install the `pickleshare` library.\n",
      "  self.shell.db['dhist'] = compress_dhist(dhist)[-100:]\n"
     ]
    }
   ],
   "source": [
    "%cd ../.."
   ],
   "metadata": {
    "collapsed": false,
    "ExecuteTime": {
     "end_time": "2024-09-06T23:11:55.677462982Z",
     "start_time": "2024-09-06T23:11:55.663193549Z"
    }
   }
  },
  {
   "cell_type": "code",
   "execution_count": 12,
   "metadata": {
    "collapsed": true,
    "ExecuteTime": {
     "end_time": "2024-09-06T23:11:55.710512910Z",
     "start_time": "2024-09-06T23:11:55.668059406Z"
    }
   },
   "outputs": [],
   "source": [
    "import os.path\n",
    "\n",
    "import pandas as pd\n",
    "\n",
    "import matplotlib.pyplot as plt\n",
    "import seaborn as sns\n",
    "\n",
    "from molDistill.utils.notebooks import *\n",
    "\n",
    "MODELS_TO_EVAL = [\n",
    "    \"ChemBertMLM-10M\",\n",
    "    \"ChemBertMTR-77M\",\n",
    "    \"ChemGPT-1.2B\",\n",
    "    \"GraphMVP\",\n",
    "    \"GROVER\",\n",
    "    \"GraphLog\",\n",
    "    \"GraphCL\",\n",
    "    \"InfoGraph\",\n",
    "    \"FRAD_QM9\",\n",
    "    \"MolR_gat\",\n",
    "    \"ThreeDInfomax\",\n",
    "    \"custom:MOSES_512_10_lr1e-4_gine\"\n",
    "]\n",
    "\n",
    "DATASETS = df_metadata[df_metadata.task_type == \"cls\"].index.tolist()"
   ]
  },
  {
   "cell_type": "markdown",
   "source": [
    "# Mean Performances"
   ],
   "metadata": {
    "collapsed": false
   }
  },
  {
   "cell_type": "code",
   "execution_count": 13,
   "outputs": [
    {
     "ename": "FileNotFoundError",
     "evalue": "[Errno 2] No such file or directory: 'downstream_results/ChemBertMLM-10M'",
     "output_type": "error",
     "traceback": [
      "\u001B[0;31m---------------------------------------------------------------------------\u001B[0m",
      "\u001B[0;31mFileNotFoundError\u001B[0m                         Traceback (most recent call last)",
      "Cell \u001B[0;32mIn[13], line 1\u001B[0m\n\u001B[0;32m----> 1\u001B[0m df_base\u001B[38;5;241m=\u001B[39m \u001B[43mget_all_results\u001B[49m\u001B[43m(\u001B[49m\u001B[43mMODELS_TO_EVAL\u001B[49m\u001B[43m,\u001B[49m\u001B[43m \u001B[49m\u001B[38;5;124;43m\"\u001B[39;49m\u001B[38;5;124;43mdownstream_results\u001B[39;49m\u001B[38;5;124;43m\"\u001B[39;49m\u001B[43m,\u001B[49m\u001B[43m \u001B[49m\u001B[43mDATASETS\u001B[49m\u001B[43m)\u001B[49m\n\u001B[1;32m      3\u001B[0m df, order \u001B[38;5;241m=\u001B[39m aggregate_results_with_ci(df_base)\n\u001B[1;32m      4\u001B[0m style,latex \u001B[38;5;241m=\u001B[39m style_df_ci(df, order)\n",
      "File \u001B[0;32m~/Distill/mol-distill/molDistill/utils/notebooks.py:11\u001B[0m, in \u001B[0;36mget_all_results\u001B[0;34m(MODELS_TO_EVAL, path, DATASETS)\u001B[0m\n\u001B[1;32m      9\u001B[0m \u001B[38;5;28;01mfor\u001B[39;00m model \u001B[38;5;129;01min\u001B[39;00m MODELS_TO_EVAL:\n\u001B[1;32m     10\u001B[0m     model_path \u001B[38;5;241m=\u001B[39m os\u001B[38;5;241m.\u001B[39mpath\u001B[38;5;241m.\u001B[39mjoin(path, model)\n\u001B[0;32m---> 11\u001B[0m     \u001B[38;5;28;01mfor\u001B[39;00m file \u001B[38;5;129;01min\u001B[39;00m \u001B[43mos\u001B[49m\u001B[38;5;241;43m.\u001B[39;49m\u001B[43mlistdir\u001B[49m\u001B[43m(\u001B[49m\u001B[43mmodel_path\u001B[49m\u001B[43m)\u001B[49m:\n\u001B[1;32m     12\u001B[0m         \u001B[38;5;28;01mif\u001B[39;00m file\u001B[38;5;241m.\u001B[39mendswith(\u001B[38;5;124m\"\u001B[39m\u001B[38;5;124m.csv\u001B[39m\u001B[38;5;124m\"\u001B[39m):\n\u001B[1;32m     13\u001B[0m             df \u001B[38;5;241m=\u001B[39m get_result_model(file, model_path, DATASETS, model)\n",
      "\u001B[0;31mFileNotFoundError\u001B[0m: [Errno 2] No such file or directory: 'downstream_results/ChemBertMLM-10M'"
     ]
    }
   ],
   "source": [
    "df_base= get_all_results(MODELS_TO_EVAL, \"downstream_results\", DATASETS)\n",
    "\n",
    "df, order = aggregate_results_with_ci(df_base)\n",
    "style,latex = style_df_ci(df, order)\n",
    "\n",
    "style"
   ],
   "metadata": {
    "collapsed": false,
    "ExecuteTime": {
     "end_time": "2024-09-06T23:11:55.713128430Z",
     "start_time": "2024-09-06T23:11:55.710641441Z"
    }
   }
  },
  {
   "cell_type": "code",
   "execution_count": null,
   "outputs": [],
   "source": [
    "table_path = \"/home/philippe/Distill/latex/Distillation-MI-ICLR/tables/molecules/molecule_results_cls.tex\"\n",
    "with open(table_path, \"w\") as f:\n",
    "    f.write(latex)"
   ],
   "metadata": {
    "collapsed": false,
    "ExecuteTime": {
     "start_time": "2024-09-06T23:11:55.710749781Z"
    }
   }
  },
  {
   "cell_type": "markdown",
   "source": [
    "# Rankings"
   ],
   "metadata": {
    "collapsed": false
   }
  },
  {
   "cell_type": "code",
   "execution_count": null,
   "outputs": [],
   "source": [
    "df_base= get_all_results(MODELS_TO_EVAL, \"downstream_results\", DATASETS)\n",
    "df_base.reset_index(inplace=True, drop=True)\n",
    "\n",
    "step = df_base.embedder.value_counts().max()\n",
    "df_base[\"id\"] = df_base.index%step\n",
    "\n",
    "df_base"
   ],
   "metadata": {
    "collapsed": false,
    "ExecuteTime": {
     "start_time": "2024-09-06T23:11:55.710839276Z"
    }
   }
  },
  {
   "cell_type": "code",
   "execution_count": null,
   "outputs": [],
   "source": [
    "ranked_df = get_ranked_df(df_base)\n",
    "\n",
    "ranked_df.columns = [\"embedder\"] + [df_metadata.loc[c, \"short_name\"] for c in ranked_df.columns[1:]]\n",
    "\n",
    "melted_ranked = ranked_df.melt(id_vars=\"embedder\", var_name=\"dataset\", value_name=\"meanrank\")\n",
    "order_datas =ranked_df.set_index(\"embedder\").transpose()[\"student\"].sort_values().index\n",
    "\n",
    "\n",
    "#define colors for models so that student has more saturation\n",
    "colors = sns.color_palette(\"husl\", len(MODELS_TO_EVAL), desat=0.4)\n",
    "colors[-1] = sns.color_palette(\"husl\", len(MODELS_TO_EVAL))[-1]\n",
    "\n",
    "cmapping = {model.replace(\n",
    "    \"custom:MOSES_512_10_lr1e-4_gine\", \"student\"\n",
    "): color for model, color in zip(MODELS_TO_EVAL, colors)}\n",
    "\n",
    "fig,ax = plt.subplots(figsize=(20,3))\n",
    "\n",
    "sns.barplot(data=melted_ranked, x=\"dataset\", y=\"meanrank\", hue=\"embedder\", ax=ax, order=order_datas, palette=cmapping)\n",
    "sns.despine()\n",
    "#rotate x labels\n",
    "plt.xticks(rotation=45)\n",
    "#Move legend outside\n",
    "plt.legend(loc='upper left', bbox_to_anchor=(1, 1), ncol=1)"
   ],
   "metadata": {
    "collapsed": false,
    "ExecuteTime": {
     "start_time": "2024-09-06T23:11:55.710927040Z"
    }
   }
  },
  {
   "cell_type": "code",
   "execution_count": null,
   "outputs": [],
   "source": [
    "style = get_ranked_df(df_base, order)\n",
    "style[\"embedder\"] = style[\"embedder\"].str.replace(\"_\", \" \")\n",
    "\n",
    "style.set_index(\"embedder\", inplace=True)\n",
    "\n",
    "style.columns= pd.MultiIndex.from_tuples([(\n",
    "    df_metadata.loc[c, \"category\"], df_metadata.loc[c, \"short_name\"]) for c in style.columns])\n",
    "style = style[sorted(style.columns, key=lambda x: x[0])]\n",
    "\n",
    "style = style.style.highlight_min(axis=0, props='bfseries:')\n",
    "\n",
    "style\n"
   ],
   "metadata": {
    "collapsed": false,
    "ExecuteTime": {
     "start_time": "2024-09-06T23:11:55.712721644Z"
    }
   }
  },
  {
   "cell_type": "code",
   "execution_count": null,
   "outputs": [],
   "source": [
    "col_format = \"r|\"\n",
    "over_cols = None\n",
    "for ov_col, col in style.columns:\n",
    "    if over_cols != ov_col:\n",
    "        col_format += \"|\"\n",
    "        over_cols = ov_col\n",
    "    col_format += \"c\"\n",
    "col_format += \"|\"\n",
    "\n",
    "\n",
    "latex = style.to_latex(\n",
    "    column_format=col_format,\n",
    "    multicol_align=\"|c|\",\n",
    "    siunitx=True,\n",
    ")\n",
    "\n",
    "\n",
    "table_path = \"/home/philippe/Distill/latex/Distillation-MI-ICLR/tables/molecules/molecule_results_cls_rank.tex\"\n",
    "with open(table_path, \"w\") as f:\n",
    "    f.write(latex)"
   ],
   "metadata": {
    "collapsed": false
   }
  },
  {
   "cell_type": "code",
   "execution_count": null,
   "outputs": [],
   "source": [],
   "metadata": {
    "collapsed": false
   }
  }
 ],
 "metadata": {
  "kernelspec": {
   "display_name": "Python 3",
   "language": "python",
   "name": "python3"
  },
  "language_info": {
   "codemirror_mode": {
    "name": "ipython",
    "version": 2
   },
   "file_extension": ".py",
   "mimetype": "text/x-python",
   "name": "python",
   "nbconvert_exporter": "python",
   "pygments_lexer": "ipython2",
   "version": "2.7.6"
  }
 },
 "nbformat": 4,
 "nbformat_minor": 0
}
