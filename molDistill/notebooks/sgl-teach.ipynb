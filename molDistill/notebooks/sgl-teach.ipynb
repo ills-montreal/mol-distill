{
 "cells": [
  {
   "cell_type": "code",
   "execution_count": null,
   "outputs": [],
   "source": [
    "%cd ../.."
   ],
   "metadata": {
    "collapsed": false
   }
  },
  {
   "cell_type": "code",
   "execution_count": null,
   "metadata": {
    "collapsed": true
   },
   "outputs": [],
   "source": [
    "import os.path\n",
    "\n",
    "import pandas as pd\n",
    "\n",
    "import matplotlib.pyplot as plt\n",
    "import seaborn as sns\n",
    "\n",
    "from molDistill.utils.notebooks import *\n",
    "\n",
    "MODELS_TO_EVAL = [\n",
    "    STUDENT_MODEL,\n",
    "    SINGLE_TEACHER_BERT,\n",
    "    SINGLE_TEACHER_TDINFO,\n",
    "    TWO_TEACHER,\n",
    "]\n",
    "DATASETS = df_metadata.index.tolist()[:-3]\n",
    "DATASETS.remove(\"ToxCast\")\n",
    "\n",
    "len(DATASETS)"
   ]
  },
  {
   "cell_type": "markdown",
   "source": [
    "# Mean Performances Classif\n"
   ],
   "metadata": {
    "collapsed": false
   }
  },
  {
   "cell_type": "code",
   "execution_count": null,
   "outputs": [],
   "source": [
    "DATASETS = df_metadata[df_metadata.task_type == \"cls\"].index.tolist()\n",
    "\n",
    "DATASET_GROUP = [[\"Distribution\", \"HTS\", \"Absorption\", \" \"], [\"Metabolism\"], [\"Tox\",]]\n",
    "\n",
    "\n",
    "df_base= get_all_results(MODELS_TO_EVAL, \"downstream_results\", DATASETS)\n",
    "df, order = aggregate_results_with_ci(df_base)\n",
    "\n",
    "\n",
    "for i, datasets in enumerate(DATASET_GROUP):\n",
    "    df_group = df[[col for col in df.columns if (col[0] in datasets)]]\n",
    "    style,latex = style_df_ci(df_group, order[::-1])\n",
    "    table_path = f\"/home/philippe/Distill/latex/Distillation-MI-ICLR/tables/molecules/sgl_cls_{i}.tex\"\n",
    "    latex = add_hline(latex, 1)\n",
    "    latex = add_hline(latex, -1)\n",
    "    with open(table_path, \"w\") as f:\n",
    "        f.write(latex)"
   ],
   "metadata": {
    "collapsed": false
   }
  },
  {
   "cell_type": "markdown",
   "source": [
    "# Mean Performances Reg"
   ],
   "metadata": {
    "collapsed": false
   }
  },
  {
   "cell_type": "code",
   "execution_count": null,
   "outputs": [],
   "source": [
    "DATASETS = df_metadata[df_metadata.task_type == \"reg\"].index.tolist()\n",
    "\n",
    "DATASET_GROUP = [[\" \", \"Absorption\", \"Tox\"], [\"Distribution\", \"Excretion\"]]\n",
    "\n",
    "\n",
    "df_base= get_all_results(MODELS_TO_EVAL, \"downstream_results\", DATASETS)\n",
    "df, order = aggregate_results_with_ci(df_base)\n",
    "\n",
    "\n",
    "for i, datasets in enumerate(DATASET_GROUP):\n",
    "    df_group = df[[col for col in df.columns if (col[0] in datasets)]]\n",
    "    style,latex = style_df_ci(df_group, order[::-1])\n",
    "    table_path = f\"/home/philippe/Distill/latex/Distillation-MI-ICLR/tables/molecules/sgl_reg_{i}.tex\"\n",
    "    latex = add_hline(latex, 1)\n",
    "    latex = add_hline(latex, -1)\n",
    "    with open(table_path, \"w\") as f:\n",
    "        f.write(latex)"
   ],
   "metadata": {
    "collapsed": false
   }
  }
 ],
 "metadata": {
  "kernelspec": {
   "display_name": "Python 3",
   "language": "python",
   "name": "python3"
  },
  "language_info": {
   "codemirror_mode": {
    "name": "ipython",
    "version": 2
   },
   "file_extension": ".py",
   "mimetype": "text/x-python",
   "name": "python",
   "nbconvert_exporter": "python",
   "pygments_lexer": "ipython2",
   "version": "2.7.6"
  }
 },
 "nbformat": 4,
 "nbformat_minor": 0
}
