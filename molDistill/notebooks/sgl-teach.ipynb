{
 "cells": [
  {
   "cell_type": "code",
   "execution_count": null,
   "outputs": [],
   "source": [
    "%cd ../.."
   ],
   "metadata": {
    "collapsed": false
   }
  },
  {
   "cell_type": "code",
   "execution_count": null,
   "metadata": {
    "collapsed": true
   },
   "outputs": [],
   "source": [
    "import os.path\n",
    "\n",
    "import pandas as pd\n",
    "\n",
    "import matplotlib.pyplot as plt\n",
    "import seaborn as sns\n",
    "\n",
    "from molDistill.utils.notebooks import *\n",
    "\n",
    "MODELS_TO_EVAL = [\n",
    "    STUDENT_MODEL,\n",
    "    SINGLE_TEACHER_BERT,\n",
    "    SINGLE_TEACHER_TDINFO,\n",
    "]\n",
    "DATASETS = df_metadata.index.tolist()[:-3]\n",
    "DATASETS.remove(\"ToxCast\")\n",
    "\n",
    "len(DATASETS)"
   ]
  },
  {
   "cell_type": "markdown",
   "source": [
    "# Mean Performances Classif\n"
   ],
   "metadata": {
    "collapsed": false
   }
  },
  {
   "cell_type": "code",
   "execution_count": null,
   "outputs": [],
   "source": [
    "DATASETS = df_metadata[df_metadata.task_type == \"cls\"].index.tolist()\n",
    "\n",
    "df_base= get_all_results(MODELS_TO_EVAL, \"downstream_results\", DATASETS, renames=[\n",
    "    (STUDENT_MODEL,\"student-large\"),\n",
    "    (SINGLE_TEACHER_BERT, \"sgl-bert\"),\n",
    "    (SINGLE_TEACHER_TDINFO, \"sgl-tdinfomax\"),\n",
    "    ],\n",
    ")\n",
    "df, order = aggregate_results_with_ci(df_base)\n",
    "style,latex = style_df_ci(df, order)\n",
    "table_path = f\"/home/philippe/Distill/latex/Distillation-MI-ICLR/tables/molecules/sgl_cls.tex\"\n",
    "with open(table_path, \"w\") as f:\n",
    "    f.write(latex)"
   ],
   "metadata": {
    "collapsed": false
   }
  },
  {
   "cell_type": "markdown",
   "source": [
    "# Mean Performances Reg"
   ],
   "metadata": {
    "collapsed": false
   }
  },
  {
   "cell_type": "code",
   "execution_count": null,
   "outputs": [],
   "source": [
    "DATASETS = df_metadata[df_metadata.task_type == \"reg\"].index.tolist()\n",
    "\n",
    "df_base= get_all_results(MODELS_TO_EVAL, \"downstream_results\", DATASETS, renames=[\n",
    "    (STUDENT_MODEL,\"student-large\"),\n",
    "    (SINGLE_TEACHER_BERT, \"sgl-bert\"),\n",
    "    (SINGLE_TEACHER_TDINFO, \"sgl-tdinfomax\"),\n",
    "    ],\n",
    ")\n",
    "df, order = aggregate_results_with_ci(df_base)\n",
    "style,latex = style_df_ci(df, order)\n",
    "table_path = f\"/home/philippe/Distill/latex/Distillation-MI-ICLR/tables/molecules/sgl_reg.tex\"\n",
    "with open(table_path, \"w\") as f:\n",
    "    f.write(latex)"
   ],
   "metadata": {
    "collapsed": false
   }
  },
  {
   "cell_type": "markdown",
   "source": [
    "# Rankings"
   ],
   "metadata": {
    "collapsed": false
   }
  },
  {
   "cell_type": "code",
   "execution_count": null,
   "outputs": [],
   "source": [
    "df_base= get_all_results(MODELS_TO_EVAL, \"downstream_results\", DATASETS, renames=[\n",
    "    (STUDENT_MODEL,\"student-large\"),\n",
    "    (SINGLE_TEACHER_BERT, \"sgl-bert\"),\n",
    "    (SINGLE_TEACHER_TDINFO, \"sgl-tdinfomax\"),\n",
    "    ],\n",
    ")\n",
    "df, order = aggregate_results_with_ci(df_base)\n",
    "df"
   ],
   "metadata": {
    "collapsed": false
   }
  },
  {
   "cell_type": "code",
   "execution_count": null,
   "outputs": [],
   "source": [
    "df_base= get_all_results(MODELS_TO_EVAL, \"downstream_results\", DATASETS, renames=[\n",
    "    (STUDENT_MODEL,\"student-large\"),\n",
    "    (SINGLE_TEACHER_BERT, \"sgl-bert\"),\n",
    "    (SINGLE_TEACHER_TDINFO, \"sgl-tdinfomax\"),\n",
    "    ],\n",
    ")\n",
    "df_base.reset_index(inplace=True, drop=True)\n",
    "\n",
    "step = df_base.embedder.value_counts().max()\n",
    "df_base[\"id\"] = df_base.index%step\n",
    "\n",
    "df_ranked = get_ranked_df(df_base)\n",
    "\n",
    "\n",
    "\n",
    "style, latex = style_df_ranked(df_ranked, order, highlight2=False, highlight3=False)\n",
    "\n",
    "\n",
    "style\n"
   ],
   "metadata": {
    "collapsed": false
   }
  },
  {
   "cell_type": "code",
   "execution_count": null,
   "outputs": [],
   "source": [
    "col_format = \"r|\"\n",
    "over_cols = None\n",
    "for col in style.columns:\n",
    "    if col == \"Avg\":\n",
    "        col_format += \"|\"\n",
    "    col_format += \"c\"\n",
    "\n",
    "latex = style.to_latex(\n",
    "    column_format=col_format,\n",
    "    multicol_align=\"|c|\",\n",
    "    siunitx=True,\n",
    ")\n",
    "latex = add_hline(latex, 1)\n",
    "latex = add_hline(latex, -1)\n",
    "\n",
    "table_path = \"/home/philippe/Distill/latex/Distillation-MI-ICLR/tables/molecules/sgl-teach-rank.tex\"\n",
    "with open(table_path, \"w\") as f:\n",
    "    f.write(latex)"
   ],
   "metadata": {
    "collapsed": false
   }
  },
  {
   "cell_type": "code",
   "execution_count": null,
   "outputs": [],
   "source": [],
   "metadata": {
    "collapsed": false
   }
  }
 ],
 "metadata": {
  "kernelspec": {
   "display_name": "Python 3",
   "language": "python",
   "name": "python3"
  },
  "language_info": {
   "codemirror_mode": {
    "name": "ipython",
    "version": 2
   },
   "file_extension": ".py",
   "mimetype": "text/x-python",
   "name": "python",
   "nbconvert_exporter": "python",
   "pygments_lexer": "ipython2",
   "version": "2.7.6"
  }
 },
 "nbformat": 4,
 "nbformat_minor": 0
}
