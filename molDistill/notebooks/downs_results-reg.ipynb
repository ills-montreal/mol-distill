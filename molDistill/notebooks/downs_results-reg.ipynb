{
 "cells": [
  {
   "cell_type": "code",
   "execution_count": null,
   "outputs": [],
   "source": [
    "%cd ../.."
   ],
   "metadata": {
    "collapsed": false
   }
  },
  {
   "cell_type": "code",
   "execution_count": null,
   "metadata": {
    "collapsed": true
   },
   "outputs": [],
   "source": [
    "import os.path\n",
    "\n",
    "import pandas as pd\n",
    "\n",
    "import matplotlib.pyplot as plt\n",
    "import seaborn as sns\n",
    "\n",
    "from molDistill.utils.notebooks import *\n",
    "\n",
    "MODELS_TO_EVAL = [\n",
    "    \"ChemBertMLM-10M\",\n",
    "    \"ChemBertMTR-77M\",\n",
    "    \"ChemGPT-1.2B\",\n",
    "    \"GraphMVP\",\n",
    "    \"GROVER\",\n",
    "    \"GraphLog\",\n",
    "    \"GraphCL\",\n",
    "    \"InfoGraph\",\n",
    "    \"FRAD_QM9\",\n",
    "    \"MolR_gat\",\n",
    "    \"ThreeDInfomax\",\n",
    "    STUDENT_MODEL\n",
    "]\n",
    "DATASETS = df_metadata[df_metadata.task_type == \"reg\"].index.tolist()\n"
   ]
  },
  {
   "cell_type": "markdown",
   "source": [
    "# Mean Performances"
   ],
   "metadata": {
    "collapsed": false
   }
  },
  {
   "cell_type": "code",
   "execution_count": null,
   "outputs": [],
   "source": [
    "\n",
    "df_base= get_all_results(MODELS_TO_EVAL + [ZINC_MODEL], \"downstream_results\", DATASETS, renames=[\n",
    "    (STUDENT_MODEL,\"student-large\"),\n",
    "    (ZINC_MODEL, \"student-small\"),\n",
    "    ],\n",
    ")\n",
    "\n",
    "df, order = aggregate_results_with_ci(df_base)\n",
    "df"
   ],
   "metadata": {
    "collapsed": false
   }
  },
  {
   "cell_type": "code",
   "execution_count": null,
   "outputs": [],
   "source": [
    "df = df.drop([(\" \",\"avg\"), (\" \",\"avg std\")], axis=1)\n",
    "style,latex = style_df_ci(df, order)\n",
    "\n",
    "table_path = f\"/home/philippe/Distill/latex/Distillation-MI-ICLR/tables/molecules/all_reg.tex\"\n",
    "with open(table_path, \"w\") as f:\n",
    "    f.write(latex)"
   ],
   "metadata": {
    "collapsed": false
   }
  },
  {
   "cell_type": "markdown",
   "source": [
    "# Rankings"
   ],
   "metadata": {
    "collapsed": false
   }
  },
  {
   "cell_type": "code",
   "execution_count": null,
   "outputs": [],
   "source": [
    "df_base= get_all_results(MODELS_TO_EVAL, \"downstream_results\", DATASETS, renames=[\n",
    "    (STUDENT_MODEL,\"student-large\"),\n",
    "    ],\n",
    ")\n",
    "\n",
    "df, order = aggregate_results_with_ci(df_base)\n",
    "df_base.reset_index(inplace=True, drop=True)\n",
    "\n",
    "step = df_base.embedder.value_counts().max()\n",
    "df_base[\"id\"] = df_base.index%step\n",
    "\n",
    "df_base"
   ],
   "metadata": {
    "collapsed": false
   }
  },
  {
   "cell_type": "code",
   "execution_count": null,
   "outputs": [],
   "source": [
    "ranked_df = get_ranked_df(df_base)\n",
    "\n",
    "ranked_df.columns = [\"embedder\"] + [df_metadata.loc[c, \"short_name\"] for c in ranked_df.columns[1:]]\n",
    "\n",
    "ranked_df"
   ],
   "metadata": {
    "collapsed": false
   }
  },
  {
   "cell_type": "code",
   "execution_count": null,
   "outputs": [],
   "source": [
    "df_plot = ranked_df.set_index(\"embedder\").loc[order[::-1]].transpose()\n",
    "df_plot.loc[\"Average\"] = df_plot.mean()\n",
    "\n",
    "fig = plt.figure(figsize=(5, 3.5))\n",
    "\n",
    "sns.heatmap(df_plot, cmap=\"flare\", annot=True, fmt=\".1f\", cbar=False, vmin=1.5, vmax = 9)\n",
    "# Rotate the tick labels for the x-axis\n",
    "plt.xticks(rotation=65)\n",
    "\n",
    "# Separate the last row (average) from the others\n",
    "plt.axhline(y=df_plot.shape[0] - 1, color=\"w\", linewidth=1)\n",
    "plt.xlabel(\"\")\n",
    "\n",
    "\n",
    "\n",
    "plt.savefig(\"/home/philippe/Distill/latex/Distillation-MI-ICLR/figures/molecules/reg_rankings.png\", bbox_inches=\"tight\")"
   ],
   "metadata": {
    "collapsed": false
   }
  },
  {
   "cell_type": "code",
   "execution_count": null,
   "outputs": [],
   "source": [
    "df_ranked = get_ranked_df(df_base)\n",
    "\n",
    "\n",
    "style, latex = style_df_ranked(df_ranked, order)\n",
    "\n",
    "\n",
    "style\n"
   ],
   "metadata": {
    "collapsed": false
   }
  },
  {
   "cell_type": "code",
   "execution_count": null,
   "outputs": [],
   "source": [
    "col_format = \"r|\"\n",
    "over_cols = None\n",
    "for col in style.columns:\n",
    "    col_format += \"|\"\n",
    "    col_format += \"c\"\n",
    "\n",
    "\n",
    "latex = style.to_latex(\n",
    "    column_format=col_format,\n",
    "    multicol_align=\"|c|\",\n",
    "    siunitx=True,\n",
    ")\n",
    "\n",
    "\n",
    "table_path = \"/home/philippe/Distill/latex/Distillation-MI-ICLR/tables/molecules/reg_rankings.tex\"\n",
    "with open(table_path, \"w\") as f:\n",
    "    f.write(latex)"
   ],
   "metadata": {
    "collapsed": false
   }
  },
  {
   "cell_type": "code",
   "execution_count": null,
   "outputs": [],
   "source": [],
   "metadata": {
    "collapsed": false
   }
  }
 ],
 "metadata": {
  "kernelspec": {
   "display_name": "Python 3",
   "language": "python",
   "name": "python3"
  },
  "language_info": {
   "codemirror_mode": {
    "name": "ipython",
    "version": 2
   },
   "file_extension": ".py",
   "mimetype": "text/x-python",
   "name": "python",
   "nbconvert_exporter": "python",
   "pygments_lexer": "ipython2",
   "version": "2.7.6"
  }
 },
 "nbformat": 4,
 "nbformat_minor": 0
}
