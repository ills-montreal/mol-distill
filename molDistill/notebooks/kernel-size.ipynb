{
 "cells": [
  {
   "cell_type": "code",
   "execution_count": null,
   "outputs": [],
   "source": [
    "%cd ../.."
   ],
   "metadata": {
    "collapsed": false
   }
  },
  {
   "cell_type": "code",
   "execution_count": null,
   "metadata": {
    "collapsed": true
   },
   "outputs": [],
   "source": [
    "import os.path\n",
    "\n",
    "import pandas as pd\n",
    "\n",
    "import matplotlib.pyplot as plt\n",
    "import seaborn as sns\n",
    "\n",
    "from molDistill.utils.notebooks import *\n",
    "\n",
    "MODELS_TO_EVAL = [\n",
    "    STUDENT_MODEL,\n",
    "    SMALL_KERNEL,\n",
    "    LARGE_KERNEL,\n",
    "]\n",
    "DATASETS = df_metadata.index.tolist()[:-3]\n",
    "DATASETS.remove(\"ToxCast\")\n",
    "\n",
    "len(DATASETS)"
   ]
  },
  {
   "cell_type": "markdown",
   "source": [
    "# Mean Performances Classif\n"
   ],
   "metadata": {
    "collapsed": false
   }
  },
  {
   "cell_type": "code",
   "execution_count": null,
   "outputs": [],
   "source": [
    "DATASETS = df_metadata[df_metadata.task_type == \"cls\"].index.tolist()\n",
    "\n",
    "DATASET_GROUP = [[\"Distribution\", \"HTS\", \"Absorption\", \" \"], [\"Metabolism\"], [\"Tox\",]]\n",
    "\n",
    "\n",
    "df_base= get_all_results(MODELS_TO_EVAL, \"downstream_results\", DATASETS, renames=[\n",
    "    (STUDENT_MODEL,\"student-large\"),\n",
    "    (SMALL_KERNEL, \"2-layers-kernel\"),\n",
    "    (LARGE_KERNEL, \"5-layers-kernel\"),\n",
    "    ],\n",
    ")\n",
    "\n",
    "df, order = aggregate_results_with_ci(df_base)\n",
    "\n",
    "\n",
    "for i, datasets in enumerate(DATASET_GROUP):\n",
    "    df_group = df[[col for col in df.columns if (col[0] in datasets)]]\n",
    "    style,latex = style_df_ci(df_group, order[::-1])\n",
    "    table_path = f\"/home/philippe/Distill/latex/Distillation-MI-ICLR/tables/molecules/kern_cls_{i}.tex\"\n",
    "    latex = add_hline(latex, 1)\n",
    "    latex = add_hline(latex, -1)\n",
    "    with open(table_path, \"w\") as f:\n",
    "        f.write(latex)"
   ],
   "metadata": {
    "collapsed": false
   }
  },
  {
   "cell_type": "code",
   "execution_count": null,
   "outputs": [],
   "source": [
    "df_base"
   ],
   "metadata": {
    "collapsed": false
   }
  },
  {
   "cell_type": "code",
   "execution_count": null,
   "outputs": [],
   "source": [],
   "metadata": {
    "collapsed": false
   }
  },
  {
   "cell_type": "markdown",
   "source": [
    "# Mean Performances Reg"
   ],
   "metadata": {
    "collapsed": false
   }
  },
  {
   "cell_type": "code",
   "execution_count": null,
   "outputs": [],
   "source": [
    "DATASETS = df_metadata[df_metadata.task_type == \"reg\"].index.tolist()\n",
    "\n",
    "DATASET_GROUP = [[\" \", \"Absorption\", \"Tox\"], [\"Distribution\", \"Excretion\"]]\n",
    "\n",
    "\n",
    "df_base= get_all_results(MODELS_TO_EVAL, \"downstream_results\", DATASETS, renames=[\n",
    "    (STUDENT_MODEL,\"student-large\"),\n",
    "    (SMALL_KERNEL, \"2-layers-kernel\"),\n",
    "    (LARGE_KERNEL, \"5-layers-kernel\"),\n",
    "    ],\n",
    ")\n",
    "df, order = aggregate_results_with_ci(df_base)\n",
    "\n",
    "\n",
    "for i, datasets in enumerate(DATASET_GROUP):\n",
    "    df_group = df[[col for col in df.columns if (col[0] in datasets)]]\n",
    "    style,latex = style_df_ci(df_group, order[::-1])\n",
    "    table_path = f\"/home/philippe/Distill/latex/Distillation-MI-ICLR/tables/molecules/kern_reg_{i}.tex\"\n",
    "    latex = add_hline(latex, 1)\n",
    "    latex = add_hline(latex, -1)\n",
    "    with open(table_path, \"w\") as f:\n",
    "        f.write(latex)"
   ],
   "metadata": {
    "collapsed": false
   }
  },
  {
   "cell_type": "markdown",
   "source": [
    "# All dataset Plot"
   ],
   "metadata": {
    "collapsed": false
   }
  },
  {
   "cell_type": "code",
   "execution_count": null,
   "outputs": [],
   "source": [
    "DATASETS = df_metadata[df_metadata.task_type == \"cls\"].index.tolist()\n",
    "\n",
    "\n",
    "\n",
    "df_base= get_all_results(MODELS_TO_EVAL, \"downstream_results\", DATASETS, renames=[\n",
    "    (STUDENT_MODEL,\"student-large\"),\n",
    "    (SMALL_KERNEL, \"2-layers-kernel\"),\n",
    "    (LARGE_KERNEL, \"5-layers-kernel\"),\n",
    "    ],\n",
    ")\n",
    "\n",
    "df_base.reset_index(inplace=True, drop=True)\n",
    "step = df_base.embedder.value_counts().max()\n",
    "df_base[\"id\"] = df_base.index%step\n",
    "\n",
    "df_base[\"short_dataset\"] = df_base.dataset.apply(lambda x: df_metadata.loc[x].short_name)\n",
    "\n",
    "def get_diff(row, df_base):\n",
    "    embedder = row.embedder\n",
    "    dataset = row.dataset\n",
    "    reference_value = df_base[(df_base.embedder == \"student-large\") & (df_base.id == row.id)].metric_test.values[0]\n",
    "    return (row.metric_test - reference_value)\n",
    "\n",
    "df_base[\"metric_test_diff\"] = df_base.apply(\n",
    "    lambda  row: get_diff(row,df_base),\n",
    "    axis=1)\n",
    "\n",
    "def get_diff_perc(row, df_base):\n",
    "    embedder = row.embedder\n",
    "    dataset = row.dataset\n",
    "    reference_value = df_base[(df_base.embedder == \"student-large\") & (df_base.id == row.id)].metric_test.values[0]\n",
    "    return (row.metric_test - reference_value) / reference_value * 100\n",
    "\n",
    "df_base[\"metric_test_diff_perc\"] = df_base.apply(\n",
    "    lambda  row: get_diff_perc(row,df_base),\n",
    "    axis=1)\n"
   ],
   "metadata": {
    "collapsed": false
   }
  },
  {
   "cell_type": "code",
   "execution_count": null,
   "outputs": [],
   "source": [
    "g = sns.catplot(\n",
    "    data=df_base[df_base.embedder != \"student-large\"],\n",
    "    col=\"short_dataset\",\n",
    "    y=\"metric_test\",\n",
    "    hue=\"embedder\",\n",
    "    kind=\"box\",\n",
    "    palette=\"husl\",\n",
    "    height=1.2,\n",
    "    aspect=1.2,\n",
    "    col_wrap = 8,\n",
    "    sharey=False,\n",
    ")\n",
    "\n",
    "g.set_titles(col_template=\"{col_name}\", row_template=\"AUROC\")\n",
    "g.set_axis_labels(\"\", \"\")\n",
    "\n",
    "# Put a hline at the student-large value\n",
    "for ax, datasets in zip(g.axes, df_base.dataset.unique()):\n",
    "    ax.axhline(df_base.groupby([\"dataset\", \"embedder\"]).get_group((datasets, \"student-large\")).metric_test.mean(),\n",
    "               color=\"red\", linestyle=\"--\")\n",
    "\n",
    "# Move legend where there is no plots\n",
    "g._legend.set_bbox_to_anchor([0.84, 0.18])\n",
    "\n",
    "plt.savefig(\"/home/philippe/Distill/latex/Distillation-MI-ICLR/figures/molecules/kern_cls_diff.pdf\", bbox_inches=\"tight\")"
   ],
   "metadata": {
    "collapsed": false
   }
  },
  {
   "cell_type": "code",
   "execution_count": null,
   "outputs": [],
   "source": [
    "g = sns.catplot(\n",
    "    data=df_base,\n",
    "    col=\"short_dataset\",\n",
    "    y=\"metric_test\",\n",
    "    hue=\"embedder\",\n",
    "    kind=\"box\",\n",
    "    palette=\"husl\",\n",
    "    height=1.2,\n",
    "    aspect=1.2,\n",
    "    col_wrap = 13,\n",
    "    sharey=False,\n",
    ")\n",
    "\n",
    "g.set_titles(col_template=\"{col_name}\", row_template=\"AUROC\")\n",
    "g.set_axis_labels(\"\", \"\")\n",
    "\n",
    "# Move legend where there is no plots\n",
    "g._legend.set_bbox_to_anchor([0.78, 0.12])"
   ],
   "metadata": {
    "collapsed": false
   }
  },
  {
   "cell_type": "code",
   "execution_count": null,
   "outputs": [],
   "source": [
    "DATASETS = df_metadata[df_metadata.task_type == \"reg\"].index.tolist()\n",
    "\n",
    "\n",
    "\n",
    "df_base= get_all_results(MODELS_TO_EVAL, \"downstream_results\", DATASETS, renames=[\n",
    "    (STUDENT_MODEL,\"student-large\"),\n",
    "    (SMALL_KERNEL, \"2-layers-kernel\"),\n",
    "    (LARGE_KERNEL, \"5-layers-kernel\"),\n",
    "    ],\n",
    ")\n",
    "\n",
    "df_base.reset_index(inplace=True, drop=True)\n",
    "step = df_base.embedder.value_counts().max()\n",
    "df_base[\"id\"] = df_base.index%step\n",
    "\n",
    "df_base[\"short_dataset\"] = df_base.dataset.apply(lambda x: df_metadata.loc[x].short_name)\n",
    "\n",
    "def get_diff(row, df_base):\n",
    "    embedder = row.embedder\n",
    "    dataset = row.dataset\n",
    "    reference_value = df_base[(df_base.embedder == \"student-large\") & (df_base.id == row.id)].metric_test.values[0]\n",
    "    return (row.metric_test - reference_value)\n",
    "\n",
    "df_base[\"metric_test_diff\"] = df_base.apply(\n",
    "    lambda  row: get_diff(row,df_base),\n",
    "    axis=1)\n",
    "\n",
    "def get_diff_perc(row, df_base):\n",
    "    embedder = row.embedder\n",
    "    dataset = row.dataset\n",
    "    reference_value = df_base[(df_base.embedder == \"student-large\") & (df_base.id == row.id)].metric_test.values[0]\n",
    "    return (row.metric_test - reference_value) / reference_value * 100\n",
    "\n",
    "df_base[\"metric_test_diff_perc\"] = df_base.apply(\n",
    "    lambda  row: get_diff_perc(row,df_base),\n",
    "    axis=1)\n"
   ],
   "metadata": {
    "collapsed": false
   }
  },
  {
   "cell_type": "code",
   "execution_count": null,
   "outputs": [],
   "source": [
    "g = sns.catplot(\n",
    "    data=df_base[df_base.embedder != \"student-large\"],\n",
    "    col=\"short_dataset\",\n",
    "    y=\"metric_test\",\n",
    "    hue=\"embedder\",\n",
    "    kind=\"box\",\n",
    "    palette=\"husl\",\n",
    "    height=1.2,\n",
    "    aspect=1.2,\n",
    "    col_wrap = 3,\n",
    "    sharey=False,\n",
    ")\n",
    "\n",
    "g.set_titles(col_template=\"{col_name}\", row_template=\"AUROC\")\n",
    "g.set_axis_labels(\"\", \"\")\n",
    "\n",
    "# Put a hline at the student-large value\n",
    "for ax, datasets in zip(g.axes, df_base.dataset.unique()):\n",
    "    ax.axhline(df_base.groupby([\"dataset\", \"embedder\"]).get_group((datasets, \"student-large\")).metric_test.mean(),\n",
    "               color=\"red\", linestyle=\"--\")\n",
    "\n",
    "# Move legend where there is no plots\n",
    "g._legend.set_bbox_to_anchor([0.6, 0.12])\n",
    "\n",
    "\n",
    "plt.savefig(\"/home/philippe/Distill/latex/Distillation-MI-ICLR/figures/molecules/kern_reg_diff.pdf\", bbox_inches=\"tight\")"
   ],
   "metadata": {
    "collapsed": false
   }
  },
  {
   "cell_type": "code",
   "execution_count": null,
   "outputs": [],
   "source": [],
   "metadata": {
    "collapsed": false
   }
  },
  {
   "cell_type": "code",
   "execution_count": null,
   "outputs": [],
   "source": [],
   "metadata": {
    "collapsed": false
   }
  },
  {
   "cell_type": "code",
   "execution_count": null,
   "outputs": [],
   "source": [],
   "metadata": {
    "collapsed": false
   }
  },
  {
   "cell_type": "code",
   "execution_count": null,
   "outputs": [],
   "source": [],
   "metadata": {
    "collapsed": false
   }
  }
 ],
 "metadata": {
  "kernelspec": {
   "display_name": "Python 3",
   "language": "python",
   "name": "python3"
  },
  "language_info": {
   "codemirror_mode": {
    "name": "ipython",
    "version": 2
   },
   "file_extension": ".py",
   "mimetype": "text/x-python",
   "name": "python",
   "nbconvert_exporter": "python",
   "pygments_lexer": "ipython2",
   "version": "2.7.6"
  }
 },
 "nbformat": 4,
 "nbformat_minor": 0
}
