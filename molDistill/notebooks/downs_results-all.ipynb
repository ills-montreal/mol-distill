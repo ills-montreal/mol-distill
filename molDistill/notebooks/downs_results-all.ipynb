{
 "cells": [
  {
   "cell_type": "code",
   "execution_count": null,
   "outputs": [],
   "source": [
    "%cd ../.."
   ],
   "metadata": {
    "collapsed": false
   }
  },
  {
   "cell_type": "code",
   "execution_count": null,
   "metadata": {
    "collapsed": true
   },
   "outputs": [],
   "source": [
    "import os.path\n",
    "\n",
    "import pandas as pd\n",
    "\n",
    "import matplotlib.pyplot as plt\n",
    "import seaborn as sns\n",
    "\n",
    "from molDistill.utils.notebooks import *\n",
    "\n",
    "STUDENT_MODEL = \"model_275.pth\"\n",
    "\n",
    "MODELS_TO_EVAL = [\n",
    "    \"ChemBertMLM-10M\",\n",
    "    \"ChemBertMTR-77M\",\n",
    "    \"ChemGPT-1.2B\",\n",
    "    \"GraphMVP\",\n",
    "    \"GROVER\",\n",
    "    \"GraphLog\",\n",
    "    \"GraphCL\",\n",
    "    \"InfoGraph\",\n",
    "    \"FRAD_QM9\",\n",
    "    \"MolR_gat\",\n",
    "    \"ThreeDInfomax\",\n",
    "    STUDENT_MODEL\n",
    "]\n",
    "DATASETS = df_metadata.index.tolist()\n",
    "DATASETS.remove(\"ToxCast\")"
   ]
  },
  {
   "cell_type": "markdown",
   "source": [
    "# Mean Performances"
   ],
   "metadata": {
    "collapsed": false
   }
  },
  {
   "cell_type": "code",
   "execution_count": null,
   "outputs": [],
   "source": [
    "\n",
    "\n",
    "df_base= get_all_results(MODELS_TO_EVAL, \"downstream_results\", DATASETS, renames=[(STUDENT_MODEL,\"student\")],)\n",
    "\n",
    "df, order = aggregate_results_with_ci(df_base)\n",
    "df = df.drop([(\" \",\"avg\"), (\" \",\"avg std\")], axis=1)\n",
    "style,latex = style_df_ci(df, order)\n",
    "\n",
    "table_path = f\"/home/philippe/Distill/latex/Distillation-MI-ICLR/tables/molecules/molecule_results_main.tex\"\n",
    "with open(table_path, \"w\") as f:\n",
    "    f.write(latex)"
   ],
   "metadata": {
    "collapsed": false
   }
  },
  {
   "cell_type": "markdown",
   "source": [
    "# Rankings"
   ],
   "metadata": {
    "collapsed": false
   }
  },
  {
   "cell_type": "code",
   "execution_count": null,
   "outputs": [],
   "source": [
    "\n",
    "\n",
    "df_base= get_all_results(MODELS_TO_EVAL, \"downstream_results\", DATASETS, renames=[(STUDENT_MODEL,\"student\")],)\n",
    "df_base.reset_index(inplace=True, drop=True)\n",
    "\n",
    "step = df_base.embedder.value_counts().max()\n",
    "df_base[\"id\"] = df_base.index%step\n",
    "\n",
    "df_base"
   ],
   "metadata": {
    "collapsed": false
   }
  },
  {
   "cell_type": "code",
   "execution_count": null,
   "outputs": [],
   "source": [
    "ranked_df = get_ranked_df(df_base)\n",
    "\n",
    "ranked_df.columns = [\"embedder\"] + [df_metadata.loc[c, \"short_name\"] for c in ranked_df.columns[1:]]\n",
    "\n",
    "melted_ranked = ranked_df.melt(id_vars=\"embedder\", var_name=\"dataset\", value_name=\"meanrank\")\n",
    "order_datas =ranked_df.set_index(\"embedder\").transpose()[\"student\"].sort_values().index\n",
    "\n",
    "\n",
    "#define colors for models so that student has more saturation\n",
    "colors = sns.color_palette(\"husl\", len(MODELS_TO_EVAL), desat=0.4)\n",
    "colors[-1] = sns.color_palette(\"husl\", len(MODELS_TO_EVAL))[-1]\n",
    "\n",
    "cmapping = {model.replace(\n",
    "    STUDENT_MODEL, \"student\"\n",
    "): color for model, color in zip(MODELS_TO_EVAL, colors)}\n",
    "\n",
    "fig,ax = plt.subplots(figsize=(20,3))\n",
    "\n",
    "sns.barplot(data=melted_ranked, x=\"dataset\", y=\"meanrank\", hue=\"embedder\", ax=ax, order=order_datas, palette=cmapping)\n",
    "sns.despine()\n",
    "#rotate x labels\n",
    "plt.xticks(rotation=45)\n",
    "#Move legend outside\n",
    "plt.legend(loc='upper left', bbox_to_anchor=(1, 1), ncol=1)"
   ],
   "metadata": {
    "collapsed": false
   }
  },
  {
   "cell_type": "code",
   "execution_count": null,
   "outputs": [],
   "source": [
    "df_ranked = get_ranked_df(df_base)\n",
    "\n",
    "\n",
    "style, latex = style_df_ranked(df_ranked, order)\n",
    "\n",
    "\n",
    "style\n"
   ],
   "metadata": {
    "collapsed": false
   }
  },
  {
   "cell_type": "code",
   "execution_count": null,
   "outputs": [],
   "source": [],
   "metadata": {
    "collapsed": false
   }
  },
  {
   "cell_type": "code",
   "execution_count": null,
   "outputs": [],
   "source": [
    "col_format = \"r|\"\n",
    "over_cols = None\n",
    "for col in style.columns:\n",
    "    col_format += \"|\"\n",
    "    col_format += \"c\"\n",
    "\n",
    "\n",
    "latex = style.to_latex(\n",
    "    column_format=col_format,\n",
    "    multicol_align=\"|c|\",\n",
    "    siunitx=True,\n",
    ")\n",
    "\n",
    "\n",
    "table_path = \"/home/philippe/Distill/latex/Distillation-MI-ICLR/tables/molecules/molecule_results_all_rank.tex\"\n",
    "with open(table_path, \"w\") as f:\n",
    "    f.write(latex)"
   ],
   "metadata": {
    "collapsed": false
   }
  },
  {
   "cell_type": "code",
   "execution_count": null,
   "outputs": [],
   "source": [],
   "metadata": {
    "collapsed": false
   }
  }
 ],
 "metadata": {
  "kernelspec": {
   "display_name": "Python 3",
   "language": "python",
   "name": "python3"
  },
  "language_info": {
   "codemirror_mode": {
    "name": "ipython",
    "version": 2
   },
   "file_extension": ".py",
   "mimetype": "text/x-python",
   "name": "python",
   "nbconvert_exporter": "python",
   "pygments_lexer": "ipython2",
   "version": "2.7.6"
  }
 },
 "nbformat": 4,
 "nbformat_minor": 0
}
