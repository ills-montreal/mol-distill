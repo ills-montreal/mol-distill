{
 "cells": [
  {
   "cell_type": "code",
   "execution_count": null,
   "outputs": [],
   "source": [
    "%cd ../.."
   ],
   "metadata": {
    "collapsed": false
   }
  },
  {
   "cell_type": "code",
   "execution_count": null,
   "metadata": {
    "collapsed": true
   },
   "outputs": [],
   "source": [
    "import os.path\n",
    "\n",
    "import pandas as pd\n",
    "\n",
    "import matplotlib.pyplot as plt\n",
    "import seaborn as sns\n",
    "\n",
    "from molDistill.utils.notebooks import *\n",
    "\n",
    "MODELS_TO_EVAL = [\n",
    "    \"ChemBertMLM-10M\",\n",
    "    \"ChemBertMTR-77M\",\n",
    "    \"ChemGPT-1.2B\",\n",
    "    \"GraphMVP\",\n",
    "    \"GROVER\",\n",
    "    \"GraphLog\",\n",
    "    \"GraphCL\",\n",
    "    \"InfoGraph\",\n",
    "    \"FRAD_QM9\",\n",
    "    \"MolR_gat\",\n",
    "    \"ThreeDInfomax\",\n",
    "    STUDENT_MODEL,\n",
    "    ZINC_MODEL\n",
    "]\n",
    "DATASETS = df_metadata.index.tolist()\n",
    "DATASETS.remove(\"ToxCast\")"
   ]
  },
  {
   "cell_type": "markdown",
   "source": [
    "# Mean Performances"
   ],
   "metadata": {
    "collapsed": false
   }
  },
  {
   "cell_type": "code",
   "execution_count": null,
   "outputs": [],
   "source": [
    "\n",
    "\n",
    "df_base= get_all_results(MODELS_TO_EVAL, \"downstream_results\", DATASETS, renames=[\n",
    "    (STUDENT_MODEL,\"student-large\"),\n",
    "    (ZINC_MODEL, \"student-small\"),\n",
    "    ],\n",
    ")\n",
    "\n",
    "df, order = aggregate_results_with_ci(df_base)\n",
    "df = df.drop([(\" \",\"avg\"), (\" \",\"avg std\")], axis=1)\n",
    "style,latex = style_df_ci(df, order)\n",
    "\n",
    "table_path = f\"/home/philippe/Distill/latex/Distillation-MI-ICLR/tables/molecules/molecule_results_main.tex\"\n",
    "with open(table_path, \"w\") as f:\n",
    "    f.write(latex)"
   ],
   "metadata": {
    "collapsed": false
   }
  },
  {
   "cell_type": "markdown",
   "source": [
    "# Rankings"
   ],
   "metadata": {
    "collapsed": false
   }
  },
  {
   "cell_type": "code",
   "execution_count": null,
   "outputs": [],
   "source": [
    "\n",
    "\n",
    "df_base= get_all_results(MODELS_TO_EVAL, \"downstream_results\", DATASETS, renames=[\n",
    "    (STUDENT_MODEL,\"student-large\"),\n",
    "    (ZINC_MODEL, \"student-small\"),\n",
    "    ],\n",
    ")\n",
    "df_base.reset_index(inplace=True, drop=True)\n",
    "\n",
    "step = df_base.embedder.value_counts().max()\n",
    "df_base[\"id\"] = df_base.index%step\n",
    "\n",
    "df_base"
   ],
   "metadata": {
    "collapsed": false
   }
  },
  {
   "cell_type": "code",
   "execution_count": null,
   "outputs": [],
   "source": [
    "df_ranked = get_ranked_df(df_base)\n",
    "\n",
    "\n",
    "style, latex = style_df_ranked(df_ranked, order)\n",
    "\n",
    "\n",
    "style\n"
   ],
   "metadata": {
    "collapsed": false
   }
  },
  {
   "cell_type": "code",
   "execution_count": null,
   "outputs": [],
   "source": [
    "col_format = \"r|\"\n",
    "over_cols = None\n",
    "for col in style.columns:\n",
    "    if col == \"Avg\":\n",
    "        col_format += \"|\"\n",
    "    col_format += \"c\"\n",
    "\n",
    "latex = style.to_latex(\n",
    "    column_format=col_format,\n",
    "    multicol_align=\"|c|\",\n",
    "    siunitx=True,\n",
    ")\n",
    "latex = add_hline(latex, 1)\n",
    "latex = add_hline(latex, -2)\n",
    "\n",
    "table_path = \"/home/philippe/Distill/latex/Distillation-MI-ICLR/tables/molecules/molecule_results_all_rank.tex\"\n",
    "with open(table_path, \"w\") as f:\n",
    "    f.write(latex)"
   ],
   "metadata": {
    "collapsed": false
   }
  },
  {
   "cell_type": "code",
   "execution_count": null,
   "outputs": [],
   "source": [],
   "metadata": {
    "collapsed": false
   }
  },
  {
   "cell_type": "code",
   "execution_count": null,
   "outputs": [],
   "source": [
    "\n",
    "MODELS_TO_EVAL = [\n",
    "    \"ChemBertMLM-10M\",\n",
    "    \"ChemBertMTR-77M\",\n",
    "    \"ChemGPT-1.2B\",\n",
    "    \"GraphMVP\",\n",
    "    \"GROVER\",\n",
    "    \"GraphLog\",\n",
    "    \"GraphCL\",\n",
    "    \"InfoGraph\",\n",
    "    \"FRAD_QM9\",\n",
    "    \"MolR_gat\",\n",
    "    \"ThreeDInfomax\",\n",
    "    STUDENT_MODEL,\n",
    "]\n",
    "DATASETS = df_metadata.index.tolist()\n",
    "DATASETS.remove(\"ToxCast\")"
   ],
   "metadata": {
    "collapsed": false
   }
  },
  {
   "cell_type": "code",
   "execution_count": null,
   "outputs": [],
   "source": [
    "df_base= get_all_results(MODELS_TO_EVAL, \"downstream_results\", DATASETS, renames=[\n",
    "    (STUDENT_MODEL,\"student-large\"),\n",
    "    (ZINC_MODEL, \"student-small\"),\n",
    "    ],\n",
    ")\n",
    "df, order = aggregate_results_with_ci(df_base)\n",
    "\n",
    "df_base.reset_index(inplace=True, drop=True)\n",
    "\n",
    "step = df_base.embedder.value_counts().max()\n",
    "df_base[\"id\"] = df_base.index%step"
   ],
   "metadata": {
    "collapsed": false
   }
  },
  {
   "cell_type": "code",
   "execution_count": null,
   "outputs": [],
   "source": [
    "ranked_df = get_ranked_df(df_base)\n",
    "\n",
    "ranked_df.columns = [\"embedder\"] + [df_metadata.loc[c, \"short_name\"] for c in ranked_df.columns[1:]]\n",
    "ranked_df"
   ],
   "metadata": {
    "collapsed": false
   }
  },
  {
   "cell_type": "code",
   "execution_count": null,
   "outputs": [],
   "source": [
    "\n",
    "from matplotlib.patches import Rectangle\n",
    "plt.rc('text', usetex=True)\n",
    "plt.rc('text.latex', preamble=r'\\usepackage{lmodern}')\n",
    "\n",
    "\n",
    "\n",
    "REG_DATASETS = df_metadata[df_metadata[\"task_type\"] == \"reg\"].short_name.tolist()\n",
    "REG_DATASET = [d for d in REG_DATASETS if d in ranked_df.columns]\n",
    "CLS_DATASET = df_metadata[df_metadata[\"task_type\"] == \"cls\"].short_name.tolist()\n",
    "CLS_DATASET = [d for d in CLS_DATASET if d in ranked_df.columns]\n",
    "\n",
    "\n",
    "df_plot = ranked_df.set_index(\"embedder\").loc[order[::-1]].transpose()\n",
    "\n",
    "df_plot.loc[\"Average (reg)\"] = df_plot.loc[REG_DATASETS].mean()\n",
    "df_plot.loc[\"Average (cls)\"] = df_plot.loc[CLS_DATASET].mean()\n",
    "\n",
    "order_dataset = REG_DATASETS + [\"Average (reg)\"] + CLS_DATASET + [\"Average (cls)\"]\n",
    "df_plot = df_plot.loc[order_dataset].transpose()\n",
    "\n",
    "\n",
    "fig,ax = plt.subplots(1,1,figsize=(10.5, 3.8))\n",
    "\n",
    "\n",
    "\n",
    "mask_min = df_plot == df_plot.min(axis = 0)\n",
    "mask_too_bad = df_plot > 10\n",
    "\n",
    "\n",
    "def highlight_value(data):\n",
    "    if str(np.round(data,1))[-1] != \"0\":\n",
    "        return r'\\textbf{\\underline{' + str(np.round(data,1)) + '}}'\n",
    "    else:\n",
    "        return r'\\textbf{\\underline{' + str(int(data)) + '}}'\n",
    "\n",
    "bold_values = np.array(\n",
    "    [\n",
    "        highlight_value(data) for data in df_plot.to_numpy().ravel()\n",
    "    ]\n",
    ").reshape(\n",
    "            np.shape(df_plot)\n",
    ")\n",
    "common_kwargs = {\n",
    "    \"cmap\": \"flare\",\n",
    "    \"cbar\": False,\n",
    "    \"vmin\": 1.5,\n",
    "    \"vmax\": 10,\n",
    "    \"annot_kws\": {\"color\": \"white\"}\n",
    "}\n",
    "\n",
    "sns.heatmap(df_plot, mask = mask_min | mask_too_bad, annot=True, **common_kwargs)\n",
    "sns.heatmap(df_plot, mask = ~mask_too_bad, annot=False, **common_kwargs)\n",
    "sns.heatmap(\n",
    "    df_plot,\n",
    "    mask = ~mask_min,\n",
    "    annot= bold_values,\n",
    "    fmt='',\n",
    "    **common_kwargs)\n",
    "\n",
    "#sns.heatmap(df_plot, cmap=\"flare\", annot=True, cbar=False, vmin=1.5, vmax = 8, annot_kws={\"color\": \"white\"})\n",
    "\n",
    "# Rotate the tick labels for the x-axis\n",
    "plt.xticks(rotation=45, ha = \"right\")\n",
    "plt.xlabel(\"\")\n",
    "plt.ylabel(\"\")\n",
    "\n",
    "# Separate the last row (average) from the others\n",
    "plt.axvline(x=df_plot.shape[1] - 1, color=\"w\", linewidth=1.5)\n",
    "plt.axvline(x=df_plot.shape[1] - len(CLS_DATASET)-1, color=\"w\", linewidth=1.5)\n",
    "plt.axvline(x=df_plot.shape[1] - len(CLS_DATASET)-2, color=\"w\", linewidth=1.5)\n",
    "\n",
    "plt.savefig(\"/home/philippe/Distill/latex/Distillation-MI-ICLR/figures/molecules/hmp_rankings.png\", bbox_inches=\"tight\")"
   ],
   "metadata": {
    "collapsed": false
   }
  },
  {
   "cell_type": "code",
   "execution_count": null,
   "outputs": [],
   "source": [],
   "metadata": {
    "collapsed": false
   }
  }
 ],
 "metadata": {
  "kernelspec": {
   "display_name": "Python 3",
   "language": "python",
   "name": "python3"
  },
  "language_info": {
   "codemirror_mode": {
    "name": "ipython",
    "version": 2
   },
   "file_extension": ".py",
   "mimetype": "text/x-python",
   "name": "python",
   "nbconvert_exporter": "python",
   "pygments_lexer": "ipython2",
   "version": "2.7.6"
  }
 },
 "nbformat": 4,
 "nbformat_minor": 0
}
