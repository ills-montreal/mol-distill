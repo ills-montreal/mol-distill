{
 "cells": [
  {
   "cell_type": "code",
   "execution_count": null,
   "metadata": {
    "collapsed": true
   },
   "outputs": [],
   "source": [
    "import wandb\n",
    "import seaborn as sns\n",
    "\n",
    "import matplotlib.pyplot as plt\n",
    "import pandas as pd\n",
    "\n",
    "api = wandb.Api()"
   ]
  },
  {
   "cell_type": "code",
   "execution_count": null,
   "outputs": [],
   "source": [
    "RUNS = [\"philippe_phd/mol-distill/mj3al0lc\", \"philippe_phd/mol-distill/aypnwcyu\", \"philippe_phd/mol-distill/rv16elr0\"]\n",
    "NAMES = [\"5-layers-kernel\", \"2-layers-kernel\", \"3-layers-kernel\"]\n",
    "KEYS = [\"Sum\", \"ThreeDInfomax\", \"FRAD_QM9\"]\n",
    "\n",
    "df = pd.DataFrame()\n",
    "for run_id, name in zip(RUNS, NAMES):\n",
    "    run = api.run(run_id)\n",
    "    df_r = run.history()\n",
    "    df_r[\"name\"] = name\n",
    "\n",
    "    df_r_processed = pd.DataFrame()\n",
    "    for key in KEYS:\n",
    "        col_name = f\"train_loss_{key}\" if not key == \"Sum\" else \"train_loss\"\n",
    "        col_name_eval = f\"eval_loss_{key}\" if not key == \"Sum\" else \"eval_loss\"\n",
    "\n",
    "        df_r[\"teacher\"] = key\n",
    "\n",
    "        df_r[\"loss\"] = df_r[col_name]\n",
    "        df_r[\"split\"] = \"train\"\n",
    "        df_r_processed = pd.concat([df_r_processed, df_r[[\"loss\", \"split\", \"teacher\", \"epoch\", \"name\"]]])\n",
    "\n",
    "        df_r[\"loss\"] = df_r[col_name_eval]\n",
    "        df_r[\"split\"] = \"val\"\n",
    "        df_r_processed = pd.concat([df_r_processed, df_r[[\"loss\", \"split\", \"teacher\", \"epoch\", \"name\"]]])\n",
    "\n",
    "\n",
    "    df = pd.concat([df, df_r_processed])\n",
    "df"
   ],
   "metadata": {
    "collapsed": false
   }
  },
  {
   "cell_type": "code",
   "execution_count": null,
   "outputs": [],
   "source": [
    "fig,axes = plt.subplots(1, len(KEYS), figsize=(len(KEYS)*2.7, 2.3), sharex=True)\n",
    "\n",
    "cmap = {name: sns.color_palette(\"husl\",len(NAMES))[i] for i, name in enumerate(NAMES)}\n",
    "\n",
    "for i, key in enumerate(KEYS):\n",
    "    sns.lineplot(data=df[df.teacher == key].dropna(), x=\"epoch\", y=\"loss\", hue=\"name\", ax = axes[i], palette=cmap, legend=i==len(KEYS)-1, alpha=0.8, style=\"split\")\n",
    "\n",
    "    axes[i].set_ylim(\n",
    "        df[df.teacher == key][\"loss\"].min(),\n",
    "        df[df.teacher == key][\"loss\"].quantile(0.95)\n",
    "    )\n",
    "\n",
    "\n",
    "for ax,name in zip(axes, KEYS):\n",
    "    ax.set_ylabel(\"\")\n",
    "    ax.set_xlabel(\"Epoch\")\n",
    "    ax.set_title(name)\n",
    "    ax.set_xlim(0, 190)\n",
    "axes[0].set_ylabel(\"Train Loss\")\n",
    "\n",
    "# Add in the legen -: train  --: eval\n",
    "axes[-1].legend([\"Train\", \"Eval\"], loc='center left', bbox_to_anchor=(1, 0.5))\n",
    "\n",
    "\n",
    "\n",
    "\n",
    "# Move legend outside\n",
    "plt.legend(loc='center left', bbox_to_anchor=(1.05, 0.5))\n",
    "\n",
    "plt.tight_layout()\n",
    "\n",
    "plt.savefig(\"/home/philippe/Distill/latex/Distillation-MI-ICLR/figures/molecules/kernel_train_curve.pdf\", bbox_inches=\"tight\")"
   ],
   "metadata": {
    "collapsed": false
   }
  },
  {
   "cell_type": "code",
   "execution_count": null,
   "outputs": [],
   "source": [
    "RUNS = [\"philippe_phd/mol-distill/33msn9sy\", \"philippe_phd/mol-distill/wow4guql\", \"philippe_phd/mol-distill/27pq9iwq\", \"philippe_phd/mol-distill/wm0onriy\", \"philippe_phd/mol-distill/r099cum7\"]\n",
    "NAMES = [\"GINE-student\", \"GAT-student\", \"GCN-student\", \"TAG-student\", \"SAGE-student\"]\n",
    "KEYS = [\"Sum\", \"GraphMVP\", \"ChemBertMTR-77M\", \"FRAD_QM9\", \"ThreeDInfomax\", \"GraphCL\"]\n",
    "\n",
    "MAX_EPOCH = 450\n",
    "\n",
    "df = pd.DataFrame()\n",
    "for run_id, name in zip(RUNS, NAMES):\n",
    "    run = api.run(run_id)\n",
    "    df_r = run.history()[run.history().epoch <= MAX_EPOCH]\n",
    "    df_r[\"name\"] = name\n",
    "\n",
    "    df_r_processed = pd.DataFrame()\n",
    "    for key in KEYS:\n",
    "        col_name = f\"train_loss_{key}\" if not key == \"Sum\" else \"train_loss\"\n",
    "        col_name_eval = f\"eval_loss_{key}\" if not key == \"Sum\" else \"eval_loss\"\n",
    "\n",
    "        df_r[\"teacher\"] = key\n",
    "\n",
    "        df_r[\"loss\"] = df_r[col_name]\n",
    "        df_r[\"split\"] = \"train\"\n",
    "        df_r_processed = pd.concat([df_r_processed, df_r[[\"loss\", \"split\", \"teacher\", \"epoch\", \"name\"]]])\n",
    "\n",
    "        df_r[\"loss\"] = df_r[col_name_eval]\n",
    "        df_r[\"split\"] = \"val\"\n",
    "        df_r_processed = pd.concat([df_r_processed, df_r[[\"loss\", \"split\", \"teacher\", \"epoch\", \"name\"]]])\n",
    "\n",
    "\n",
    "    df = pd.concat([df, df_r_processed])"
   ],
   "metadata": {
    "collapsed": false
   }
  },
  {
   "cell_type": "code",
   "execution_count": null,
   "outputs": [],
   "source": [
    "sns.color_palette(\"BrBG\",len(NAMES)+4)"
   ],
   "metadata": {
    "collapsed": false
   }
  },
  {
   "cell_type": "code",
   "execution_count": null,
   "outputs": [],
   "source": [
    "fig,axes = plt.subplots(2, len(KEYS)//2, figsize=(len(KEYS)/2*2.7, 4.3), sharex=True)\n",
    "axes = axes.flatten()\n",
    "\n",
    "cmap_offset = 4\n",
    "to_iso = [\"GINE\", \"GAT\"]\n",
    "not_to_iso = [n.split(\"-\")[0] for n in NAMES if n.split(\"-\")[0] not in to_iso]\n",
    "\n",
    "def get_color(name, desat=0.7, cmap_offset = 2, cmap = \"PRGn\"):\n",
    "    arch = name.split(\"-\")[0]\n",
    "    if arch in to_iso:\n",
    "        idx = to_iso.index(arch)+1+cmap_offset//2\n",
    "        return sns.color_palette(cmap,len(NAMES)+cmap_offset)[-idx]\n",
    "    else:\n",
    "        idx = not_to_iso.index(arch)\n",
    "        return sns.color_palette(cmap,len(NAMES)+cmap_offset, desat = desat)[idx]\n",
    "\n",
    "cmap = {\n",
    "    name: get_color(name)\n",
    "    for name in NAMES\n",
    "}\n",
    "\n",
    "for i, key in enumerate(KEYS):\n",
    "    sns.lineplot(data=df[df.teacher == key].dropna(), x=\"epoch\", y=\"loss\", hue=\"name\", ax = axes[i], palette=cmap, legend=i==len(KEYS)-1, alpha=1, style=\"split\")\n",
    "\n",
    "    axes[i].set_ylim(\n",
    "        df[df.teacher == key][\"loss\"].min(),\n",
    "        df[df.teacher == key][\"loss\"].quantile(0.99)\n",
    "    )\n",
    "\n",
    "\n",
    "for ax,name in zip(axes, KEYS):\n",
    "    ax.set_ylabel(\"\")\n",
    "    ax.set_xlabel(\"Epoch\")\n",
    "    ax.set_title(name)\n",
    "    ax.set_xlim(0, 400)\n",
    "axes[0].set_ylabel(\"Train Loss\")\n",
    "\n",
    "# Add in the legen -: train  --: eval\n",
    "axes[-1].legend([\"Train\", \"Eval\"], loc='center left', bbox_to_anchor=(1, 0.5))\n",
    "\n",
    "\n",
    "\n",
    "\n",
    "# Move legend outside\n",
    "plt.legend(loc='center left', bbox_to_anchor=(1.05, 0.8))\n",
    "\n",
    "\n",
    "\n",
    "#plt.tight_layout()\n",
    "\n",
    "plt.savefig(\"/home/philippe/Distill/latex/Distillation-MI-ICLR/figures/molecules/archi_train_curve.pdf\", bbox_inches=\"tight\")"
   ],
   "metadata": {
    "collapsed": false
   }
  },
  {
   "cell_type": "code",
   "execution_count": null,
   "outputs": [],
   "source": [],
   "metadata": {
    "collapsed": false
   }
  }
 ],
 "metadata": {
  "kernelspec": {
   "display_name": "Python 3",
   "language": "python",
   "name": "python3"
  },
  "language_info": {
   "codemirror_mode": {
    "name": "ipython",
    "version": 2
   },
   "file_extension": ".py",
   "mimetype": "text/x-python",
   "name": "python",
   "nbconvert_exporter": "python",
   "pygments_lexer": "ipython2",
   "version": "2.7.6"
  }
 },
 "nbformat": 4,
 "nbformat_minor": 0
}
